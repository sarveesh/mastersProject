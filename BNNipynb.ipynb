{
  "nbformat": 4,
  "nbformat_minor": 0,
  "metadata": {
    "colab": {
      "name": "BNNipynb",
      "private_outputs": true,
      "provenance": [],
      "collapsed_sections": [],
      "machine_shape": "hm",
      "authorship_tag": "ABX9TyM8fe5HOvj6fHk7oFmwZBeS",
      "include_colab_link": true
    },
    "kernelspec": {
      "name": "python3",
      "display_name": "Python 3"
    },
    "language_info": {
      "name": "python"
    },
    "accelerator": "GPU"
  },
  "cells": [
    {
      "cell_type": "markdown",
      "metadata": {
        "id": "view-in-github",
        "colab_type": "text"
      },
      "source": [
        "<a href=\"https://colab.research.google.com/github/sarveesh/mastersProject/blob/develop/BNNipynb.ipynb\" target=\"_parent\"><img src=\"https://colab.research.google.com/assets/colab-badge.svg\" alt=\"Open In Colab\"/></a>"
      ]
    },
    {
      "cell_type": "code",
      "metadata": {
        "id": "huH9gi0KoyNA"
      },
      "source": [
        "!rm -R /content/voc/"
      ],
      "execution_count": null,
      "outputs": []
    },
    {
      "cell_type": "code",
      "metadata": {
        "id": "hE0Klah3S-Dm"
      },
      "source": [
        "!git clone https://gitlab.com/EAVISE/top/voc.git"
      ],
      "execution_count": null,
      "outputs": []
    },
    {
      "cell_type": "code",
      "metadata": {
        "id": "Kuhng-n0Tsjs"
      },
      "source": [
        "%cd voc"
      ],
      "execution_count": null,
      "outputs": []
    },
    {
      "cell_type": "code",
      "metadata": {
        "id": "bw5j9J-9TnXZ"
      },
      "source": [
        "!pip install -r requirements.txt"
      ],
      "execution_count": null,
      "outputs": []
    },
    {
      "cell_type": "code",
      "metadata": {
        "id": "GoyGzZODTvul"
      },
      "source": [
        "!mkdir data"
      ],
      "execution_count": null,
      "outputs": []
    },
    {
      "cell_type": "code",
      "metadata": {
        "id": "GlvRUd30T-Wp"
      },
      "source": [
        "%cd data/"
      ],
      "execution_count": null,
      "outputs": []
    },
    {
      "cell_type": "code",
      "metadata": {
        "id": "pFC_0DQBUAyf"
      },
      "source": [
        "!wget https://pjreddie.com/media/files/VOCtrainval_11-May-2012.tar\n",
        "!wget https://pjreddie.com/media/files/VOCtrainval_06-Nov-2007.tar\n",
        "!wget https://pjreddie.com/media/files/VOCtest_06-Nov-2007.tar"
      ],
      "execution_count": null,
      "outputs": []
    },
    {
      "cell_type": "code",
      "metadata": {
        "id": "7YzYTGzPUGLR"
      },
      "source": [
        "!tar xf VOCtrainval_11-May-2012.tar\n",
        "!tar xf VOCtrainval_06-Nov-2007.tar\n",
        "!tar xf VOCtest_06-Nov-2007.tar\n"
      ],
      "execution_count": null,
      "outputs": []
    },
    {
      "cell_type": "code",
      "metadata": {
        "id": "Cu38K-bhUKP7"
      },
      "source": [
        "%cd .."
      ],
      "execution_count": null,
      "outputs": []
    },
    {
      "cell_type": "code",
      "metadata": {
        "id": "a9fnhyNpVdUQ"
      },
      "source": [
        "%ls"
      ],
      "execution_count": null,
      "outputs": []
    },
    {
      "cell_type": "markdown",
      "metadata": {
        "id": "_sSs5rAkVqYx"
      },
      "source": [
        ""
      ]
    },
    {
      "cell_type": "code",
      "metadata": {
        "id": "5sow5LncVMpf"
      },
      "source": [
        "# Split into train/test, like the original darknet yolo\n",
        "# Note that you will need to adapt the config files if you want to use these files!\n",
        "!./bin/labels.py --help"
      ],
      "execution_count": null,
      "outputs": []
    },
    {
      "cell_type": "code",
      "metadata": {
        "id": "UZWOn68IV5by"
      },
      "source": [
        "# Split into train/test, like the original darknet yolo\n",
        "# Note that you will need to adapt the config files if you want to use these files!\n",
        "!./bin/labels.py -v -x .h5 data/ traintest\n"
      ],
      "execution_count": null,
      "outputs": []
    },
    {
      "cell_type": "code",
      "metadata": {
        "id": "G5vg-KDcXIa4"
      },
      "source": [
        "# Split into train/val/test, which is necessary for training+pruning\n",
        "!./bin/labels.py -v -x .h5 data/ trainvaltest"
      ],
      "execution_count": null,
      "outputs": []
    },
    {
      "cell_type": "code",
      "metadata": {
        "id": "-hBNHBrsWxDc"
      },
      "source": [
        "!wget https://pjreddie.com/media/files/darknet19_448.conv.23\n",
        "\n"
      ],
      "execution_count": null,
      "outputs": []
    },
    {
      "cell_type": "code",
      "metadata": {
        "id": "vNP_QIuLWzVn"
      },
      "source": [
        "!./bin/train.py --help"
      ],
      "execution_count": null,
      "outputs": []
    },
    {
      "cell_type": "code",
      "metadata": {
        "id": "O0kDLsMLXquV"
      },
      "source": [
        "from google.colab import drive\n",
        "drive.mount(\"/content/drive\")"
      ],
      "execution_count": null,
      "outputs": []
    },
    {
      "cell_type": "code",
      "metadata": {
        "id": "vujXJ1TgXdlD"
      },
      "source": [
        "!python3 bin/train.py -c -n cfg/train/yolov2.py -b backup/train "
      ],
      "execution_count": null,
      "outputs": []
    },
    {
      "cell_type": "code",
      "metadata": {
        "id": "VUlubWg1Yfq_"
      },
      "source": [
        "!python3 ./bin/prune.py -c -n cfg/prune/yolov2-l2.py -b backup/prune -p 10 darknet19_448.conv.23.pt"
      ],
      "execution_count": null,
      "outputs": []
    },
    {
      "cell_type": "code",
      "metadata": {
        "id": "ge_-fVG_eKqI"
      },
      "source": [
        "!python ./bin/test.py -c -n cfg/train/yolov2.py darknet19_448.conv.23.pt"
      ],
      "execution_count": null,
      "outputs": []
    },
    {
      "cell_type": "code",
      "metadata": {
        "id": "B_9qzoqig0RS"
      },
      "source": [
        "%cd .."
      ],
      "execution_count": null,
      "outputs": []
    },
    {
      "cell_type": "code",
      "metadata": {
        "id": "Y4ZXq7Xrg2XJ"
      },
      "source": [
        "!git clone https://github.com/MinahilRaza/TinyYOLO-BNN.git"
      ],
      "execution_count": null,
      "outputs": []
    },
    {
      "cell_type": "code",
      "metadata": {
        "id": "gK1Z0MZig8lj"
      },
      "source": [
        "%ls"
      ],
      "execution_count": null,
      "outputs": []
    },
    {
      "cell_type": "code",
      "metadata": {
        "id": "O2uCvvk6hBzG"
      },
      "source": [
        "%cd TinyYOLO-BNN/"
      ],
      "execution_count": null,
      "outputs": []
    },
    {
      "cell_type": "code",
      "metadata": {
        "id": "TZtx0RFmhEFy"
      },
      "source": [
        "%ls"
      ],
      "execution_count": null,
      "outputs": []
    },
    {
      "cell_type": "code",
      "metadata": {
        "id": "neWEvtd2ljxn"
      },
      "source": [
        "!which python"
      ],
      "execution_count": null,
      "outputs": []
    },
    {
      "cell_type": "code",
      "metadata": {
        "id": "y9lHNp0ClWyG"
      },
      "source": [
        "!python ./Training/Weights-Packing/export.py"
      ],
      "execution_count": null,
      "outputs": []
    },
    {
      "cell_type": "code",
      "metadata": {
        "id": "8pLdRPpThFeR"
      },
      "source": [
        "!python3 ./Training/Weights-Packing/gen-weights.py"
      ],
      "execution_count": null,
      "outputs": []
    },
    {
      "cell_type": "code",
      "metadata": {
        "id": "L5ntXZ9Bh0Mp"
      },
      "source": [
        "peCount =1 \n",
        "simdCount=2 \n",
        "convl=3\n",
        "print( \"\\nUsing peCount = %d simdCount = %d for engine %d\" % (peCount, simdCount, convl))"
      ],
      "execution_count": null,
      "outputs": []
    }
  ]
}