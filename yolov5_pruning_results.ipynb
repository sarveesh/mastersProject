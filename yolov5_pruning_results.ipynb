{
  "nbformat": 4,
  "nbformat_minor": 0,
  "metadata": {
    "colab": {
      "name": "yolov5_pruning results.ipynb",
      "provenance": [],
      "machine_shape": "hm",
      "authorship_tag": "ABX9TyMC9oAMvDUJ8AapnO1b3fCM",
      "include_colab_link": true
    },
    "kernelspec": {
      "name": "python3",
      "display_name": "Python 3"
    },
    "language_info": {
      "name": "python"
    },
    "accelerator": "GPU"
  },
  "cells": [
    {
      "cell_type": "markdown",
      "metadata": {
        "id": "view-in-github",
        "colab_type": "text"
      },
      "source": [
        "<a href=\"https://colab.research.google.com/github/sarveesh/mastersProject/blob/develop/yolov5_pruning_results.ipynb\" target=\"_parent\"><img src=\"https://colab.research.google.com/assets/colab-badge.svg\" alt=\"Open In Colab\"/></a>"
      ]
    },
    {
      "cell_type": "markdown",
      "metadata": {
        "id": "G7mxC9ItsHAD"
      },
      "source": [
        "Get yolov5"
      ]
    },
    {
      "cell_type": "code",
      "metadata": {
        "colab": {
          "base_uri": "https://localhost:8080/"
        },
        "id": "XJNv355QeEPS",
        "outputId": "53fc31fa-6f7b-412e-debd-453aa6fd8a26"
      },
      "source": [
        "!git clone https://github.com/ultralytics/yolov5.git"
      ],
      "execution_count": 1,
      "outputs": [
        {
          "output_type": "stream",
          "text": [
            "Cloning into 'yolov5'...\n",
            "remote: Enumerating objects: 8754, done.\u001b[K\n",
            "remote: Total 8754 (delta 0), reused 0 (delta 0), pack-reused 8754\u001b[K\n",
            "Receiving objects: 100% (8754/8754), 9.33 MiB | 12.44 MiB/s, done.\n",
            "Resolving deltas: 100% (6087/6087), done.\n"
          ],
          "name": "stdout"
        }
      ]
    },
    {
      "cell_type": "markdown",
      "metadata": {
        "id": "hqI2eDAzvA8y"
      },
      "source": [
        "Go to directory"
      ]
    },
    {
      "cell_type": "code",
      "metadata": {
        "colab": {
          "base_uri": "https://localhost:8080/"
        },
        "id": "awPzzJuNegvr",
        "outputId": "ba88b14b-b57f-407c-86a4-0566fe6d6c4d"
      },
      "source": [
        "%cd yolov5"
      ],
      "execution_count": 2,
      "outputs": [
        {
          "output_type": "stream",
          "text": [
            "/content/yolov5\n"
          ],
          "name": "stdout"
        }
      ]
    },
    {
      "cell_type": "markdown",
      "metadata": {
        "id": "Qjp4Hp20vDlU"
      },
      "source": [
        "Install dependencies"
      ]
    },
    {
      "cell_type": "code",
      "metadata": {
        "colab": {
          "base_uri": "https://localhost:8080/"
        },
        "id": "WPWX6F4PekyH",
        "outputId": "8837f84d-c43b-4498-e11d-16dc1a1fd011"
      },
      "source": [
        "!pip install -r requirements.txt"
      ],
      "execution_count": 3,
      "outputs": [
        {
          "output_type": "stream",
          "text": [
            "Requirement already satisfied: matplotlib>=3.2.2 in /usr/local/lib/python3.7/dist-packages (from -r requirements.txt (line 4)) (3.2.2)\n",
            "Requirement already satisfied: numpy>=1.18.5 in /usr/local/lib/python3.7/dist-packages (from -r requirements.txt (line 5)) (1.19.5)\n",
            "Requirement already satisfied: opencv-python>=4.1.2 in /usr/local/lib/python3.7/dist-packages (from -r requirements.txt (line 6)) (4.1.2.30)\n",
            "Requirement already satisfied: Pillow in /usr/local/lib/python3.7/dist-packages (from -r requirements.txt (line 7)) (7.1.2)\n",
            "Collecting PyYAML>=5.3.1\n",
            "  Downloading PyYAML-5.4.1-cp37-cp37m-manylinux1_x86_64.whl (636 kB)\n",
            "\u001b[K     |████████████████████████████████| 636 kB 8.3 MB/s \n",
            "\u001b[?25hRequirement already satisfied: scipy>=1.4.1 in /usr/local/lib/python3.7/dist-packages (from -r requirements.txt (line 9)) (1.4.1)\n",
            "Requirement already satisfied: torch>=1.7.0 in /usr/local/lib/python3.7/dist-packages (from -r requirements.txt (line 10)) (1.9.0+cu102)\n",
            "Requirement already satisfied: torchvision>=0.8.1 in /usr/local/lib/python3.7/dist-packages (from -r requirements.txt (line 11)) (0.10.0+cu102)\n",
            "Requirement already satisfied: tqdm>=4.41.0 in /usr/local/lib/python3.7/dist-packages (from -r requirements.txt (line 12)) (4.41.1)\n",
            "Requirement already satisfied: tensorboard>=2.4.1 in /usr/local/lib/python3.7/dist-packages (from -r requirements.txt (line 15)) (2.5.0)\n",
            "Requirement already satisfied: seaborn>=0.11.0 in /usr/local/lib/python3.7/dist-packages (from -r requirements.txt (line 19)) (0.11.1)\n",
            "Requirement already satisfied: pandas in /usr/local/lib/python3.7/dist-packages (from -r requirements.txt (line 20)) (1.1.5)\n",
            "Collecting thop\n",
            "  Downloading thop-0.0.31.post2005241907-py3-none-any.whl (8.7 kB)\n",
            "Requirement already satisfied: python-dateutil>=2.1 in /usr/local/lib/python3.7/dist-packages (from matplotlib>=3.2.2->-r requirements.txt (line 4)) (2.8.1)\n",
            "Requirement already satisfied: pyparsing!=2.0.4,!=2.1.2,!=2.1.6,>=2.0.1 in /usr/local/lib/python3.7/dist-packages (from matplotlib>=3.2.2->-r requirements.txt (line 4)) (2.4.7)\n",
            "Requirement already satisfied: cycler>=0.10 in /usr/local/lib/python3.7/dist-packages (from matplotlib>=3.2.2->-r requirements.txt (line 4)) (0.10.0)\n",
            "Requirement already satisfied: kiwisolver>=1.0.1 in /usr/local/lib/python3.7/dist-packages (from matplotlib>=3.2.2->-r requirements.txt (line 4)) (1.3.1)\n",
            "Requirement already satisfied: typing-extensions in /usr/local/lib/python3.7/dist-packages (from torch>=1.7.0->-r requirements.txt (line 10)) (3.7.4.3)\n",
            "Requirement already satisfied: google-auth-oauthlib<0.5,>=0.4.1 in /usr/local/lib/python3.7/dist-packages (from tensorboard>=2.4.1->-r requirements.txt (line 15)) (0.4.4)\n",
            "Requirement already satisfied: google-auth<2,>=1.6.3 in /usr/local/lib/python3.7/dist-packages (from tensorboard>=2.4.1->-r requirements.txt (line 15)) (1.32.1)\n",
            "Requirement already satisfied: setuptools>=41.0.0 in /usr/local/lib/python3.7/dist-packages (from tensorboard>=2.4.1->-r requirements.txt (line 15)) (57.2.0)\n",
            "Requirement already satisfied: tensorboard-data-server<0.7.0,>=0.6.0 in /usr/local/lib/python3.7/dist-packages (from tensorboard>=2.4.1->-r requirements.txt (line 15)) (0.6.1)\n",
            "Requirement already satisfied: wheel>=0.26 in /usr/local/lib/python3.7/dist-packages (from tensorboard>=2.4.1->-r requirements.txt (line 15)) (0.36.2)\n",
            "Requirement already satisfied: werkzeug>=0.11.15 in /usr/local/lib/python3.7/dist-packages (from tensorboard>=2.4.1->-r requirements.txt (line 15)) (1.0.1)\n",
            "Requirement already satisfied: grpcio>=1.24.3 in /usr/local/lib/python3.7/dist-packages (from tensorboard>=2.4.1->-r requirements.txt (line 15)) (1.34.1)\n",
            "Requirement already satisfied: protobuf>=3.6.0 in /usr/local/lib/python3.7/dist-packages (from tensorboard>=2.4.1->-r requirements.txt (line 15)) (3.17.3)\n",
            "Requirement already satisfied: tensorboard-plugin-wit>=1.6.0 in /usr/local/lib/python3.7/dist-packages (from tensorboard>=2.4.1->-r requirements.txt (line 15)) (1.8.0)\n",
            "Requirement already satisfied: markdown>=2.6.8 in /usr/local/lib/python3.7/dist-packages (from tensorboard>=2.4.1->-r requirements.txt (line 15)) (3.3.4)\n",
            "Requirement already satisfied: absl-py>=0.4 in /usr/local/lib/python3.7/dist-packages (from tensorboard>=2.4.1->-r requirements.txt (line 15)) (0.12.0)\n",
            "Requirement already satisfied: requests<3,>=2.21.0 in /usr/local/lib/python3.7/dist-packages (from tensorboard>=2.4.1->-r requirements.txt (line 15)) (2.23.0)\n",
            "Requirement already satisfied: pytz>=2017.2 in /usr/local/lib/python3.7/dist-packages (from pandas->-r requirements.txt (line 20)) (2018.9)\n",
            "Requirement already satisfied: six in /usr/local/lib/python3.7/dist-packages (from absl-py>=0.4->tensorboard>=2.4.1->-r requirements.txt (line 15)) (1.15.0)\n",
            "Requirement already satisfied: rsa<5,>=3.1.4 in /usr/local/lib/python3.7/dist-packages (from google-auth<2,>=1.6.3->tensorboard>=2.4.1->-r requirements.txt (line 15)) (4.7.2)\n",
            "Requirement already satisfied: pyasn1-modules>=0.2.1 in /usr/local/lib/python3.7/dist-packages (from google-auth<2,>=1.6.3->tensorboard>=2.4.1->-r requirements.txt (line 15)) (0.2.8)\n",
            "Requirement already satisfied: cachetools<5.0,>=2.0.0 in /usr/local/lib/python3.7/dist-packages (from google-auth<2,>=1.6.3->tensorboard>=2.4.1->-r requirements.txt (line 15)) (4.2.2)\n",
            "Requirement already satisfied: requests-oauthlib>=0.7.0 in /usr/local/lib/python3.7/dist-packages (from google-auth-oauthlib<0.5,>=0.4.1->tensorboard>=2.4.1->-r requirements.txt (line 15)) (1.3.0)\n",
            "Requirement already satisfied: importlib-metadata in /usr/local/lib/python3.7/dist-packages (from markdown>=2.6.8->tensorboard>=2.4.1->-r requirements.txt (line 15)) (4.6.1)\n",
            "Requirement already satisfied: pyasn1<0.5.0,>=0.4.6 in /usr/local/lib/python3.7/dist-packages (from pyasn1-modules>=0.2.1->google-auth<2,>=1.6.3->tensorboard>=2.4.1->-r requirements.txt (line 15)) (0.4.8)\n",
            "Requirement already satisfied: idna<3,>=2.5 in /usr/local/lib/python3.7/dist-packages (from requests<3,>=2.21.0->tensorboard>=2.4.1->-r requirements.txt (line 15)) (2.10)\n",
            "Requirement already satisfied: chardet<4,>=3.0.2 in /usr/local/lib/python3.7/dist-packages (from requests<3,>=2.21.0->tensorboard>=2.4.1->-r requirements.txt (line 15)) (3.0.4)\n",
            "Requirement already satisfied: urllib3!=1.25.0,!=1.25.1,<1.26,>=1.21.1 in /usr/local/lib/python3.7/dist-packages (from requests<3,>=2.21.0->tensorboard>=2.4.1->-r requirements.txt (line 15)) (1.24.3)\n",
            "Requirement already satisfied: certifi>=2017.4.17 in /usr/local/lib/python3.7/dist-packages (from requests<3,>=2.21.0->tensorboard>=2.4.1->-r requirements.txt (line 15)) (2021.5.30)\n",
            "Requirement already satisfied: oauthlib>=3.0.0 in /usr/local/lib/python3.7/dist-packages (from requests-oauthlib>=0.7.0->google-auth-oauthlib<0.5,>=0.4.1->tensorboard>=2.4.1->-r requirements.txt (line 15)) (3.1.1)\n",
            "Requirement already satisfied: zipp>=0.5 in /usr/local/lib/python3.7/dist-packages (from importlib-metadata->markdown>=2.6.8->tensorboard>=2.4.1->-r requirements.txt (line 15)) (3.5.0)\n",
            "Installing collected packages: thop, PyYAML\n",
            "  Attempting uninstall: PyYAML\n",
            "    Found existing installation: PyYAML 3.13\n",
            "    Uninstalling PyYAML-3.13:\n",
            "      Successfully uninstalled PyYAML-3.13\n",
            "Successfully installed PyYAML-5.4.1 thop-0.0.31.post2005241907\n"
          ],
          "name": "stdout"
        }
      ]
    },
    {
      "cell_type": "markdown",
      "metadata": {
        "id": "h42gtMelvG_i"
      },
      "source": [
        "Test and load yolov5x"
      ]
    },
    {
      "cell_type": "code",
      "metadata": {
        "colab": {
          "base_uri": "https://localhost:8080/"
        },
        "id": "tgkqpnume3DN",
        "outputId": "2154bddf-021f-4eea-d069-3fd077f9e9e7"
      },
      "source": [
        "import torch\n",
        "\n",
        "# Model\n",
        "model = torch.hub.load('ultralytics/yolov5', 'yolov5x')  # or yolov5m, yolov5l, yolov5x, custom\n",
        "\n",
        "# Images\n",
        "img = 'https://ultralytics.com/images/zidane.jpg'  # or file, Path, PIL, OpenCV, numpy, list\n",
        "\n",
        "# Inference\n",
        "results = model(img)\n",
        "\n",
        "# Results\n",
        "results.print()  # or .show(), .save(), .crop(), .pandas(), etc.\n",
        "\n",
        "#save result\n",
        "results.save()"
      ],
      "execution_count": 49,
      "outputs": [
        {
          "output_type": "stream",
          "text": [
            "Using cache found in /root/.cache/torch/hub/ultralytics_yolov5_master\n"
          ],
          "name": "stderr"
        },
        {
          "output_type": "stream",
          "text": [
            "\u001b[31m\u001b[1mrequirements:\u001b[0m PyYAML>=5.3.1 not found and is required by YOLOv5, attempting auto-update...\n"
          ],
          "name": "stdout"
        },
        {
          "output_type": "stream",
          "text": [
            "YOLOv5 🚀 2021-8-10 torch 1.9.0+cu102 CUDA:0 (Tesla P100-PCIE-16GB, 16280.875MB)\n",
            "\n"
          ],
          "name": "stderr"
        },
        {
          "output_type": "stream",
          "text": [
            "Requirement already satisfied: PyYAML>=5.3.1 in /usr/local/lib/python3.7/dist-packages (5.4.1)\n",
            "\n",
            "\u001b[31m\u001b[1mrequirements:\u001b[0m 1 package updated per /root/.cache/torch/hub/ultralytics_yolov5_master/requirements.txt\n",
            "\u001b[31m\u001b[1mrequirements:\u001b[0m ⚠️ \u001b[1mRestart runtime or rerun command for updates to take effect\u001b[0m\n",
            "\n"
          ],
          "name": "stdout"
        },
        {
          "output_type": "stream",
          "text": [
            "Fusing layers... \n",
            "Model Summary: 476 layers, 87730285 parameters, 0 gradients\n",
            "Adding AutoShape... \n",
            "image 1/1: 720x1280 2 persons, 2 ties\n",
            "Speed: 258.0ms pre-process, 38.8ms inference, 2.0ms NMS per image at shape (1, 3, 384, 640)\n",
            "Saved 1 image to 'runs/detect/exp18'\n"
          ],
          "name": "stderr"
        }
      ]
    },
    {
      "cell_type": "markdown",
      "metadata": {
        "id": "wW8ubQ614XZO"
      },
      "source": [
        "Test and load yolov5s"
      ]
    },
    {
      "cell_type": "code",
      "metadata": {
        "colab": {
          "base_uri": "https://localhost:8080/"
        },
        "id": "WrejszZA4aQC",
        "outputId": "1ed1e36d-76fc-459e-bd25-66b1e212b81a"
      },
      "source": [
        "import torch\n",
        "\n",
        "# Model\n",
        "model = torch.hub.load('ultralytics/yolov5', 'yolov5s')  # or yolov5m, yolov5l, yolov5x, custom\n",
        "\n",
        "# Images\n",
        "img = 'https://ultralytics.com/images/zidane.jpg'  # or file, Path, PIL, OpenCV, numpy, list\n",
        "\n",
        "# Inference\n",
        "results = model(img)\n",
        "\n",
        "# Results\n",
        "results.print()  # or .show(), .save(), .crop(), .pandas(), etc.\n",
        "\n",
        "#save result\n",
        "results.save()"
      ],
      "execution_count": 50,
      "outputs": [
        {
          "output_type": "stream",
          "text": [
            "Using cache found in /root/.cache/torch/hub/ultralytics_yolov5_master\n"
          ],
          "name": "stderr"
        },
        {
          "output_type": "stream",
          "text": [
            "\u001b[31m\u001b[1mrequirements:\u001b[0m PyYAML>=5.3.1 not found and is required by YOLOv5, attempting auto-update...\n"
          ],
          "name": "stdout"
        },
        {
          "output_type": "stream",
          "text": [
            "YOLOv5 🚀 2021-8-10 torch 1.9.0+cu102 CUDA:0 (Tesla P100-PCIE-16GB, 16280.875MB)\n",
            "\n",
            "Fusing layers... \n"
          ],
          "name": "stderr"
        },
        {
          "output_type": "stream",
          "text": [
            "Requirement already satisfied: PyYAML>=5.3.1 in /usr/local/lib/python3.7/dist-packages (5.4.1)\n",
            "\n",
            "\u001b[31m\u001b[1mrequirements:\u001b[0m 1 package updated per /root/.cache/torch/hub/ultralytics_yolov5_master/requirements.txt\n",
            "\u001b[31m\u001b[1mrequirements:\u001b[0m ⚠️ \u001b[1mRestart runtime or rerun command for updates to take effect\u001b[0m\n",
            "\n"
          ],
          "name": "stdout"
        },
        {
          "output_type": "stream",
          "text": [
            "Model Summary: 224 layers, 7266973 parameters, 0 gradients\n",
            "Adding AutoShape... \n",
            "image 1/1: 720x1280 2 persons, 2 ties\n",
            "Speed: 417.7ms pre-process, 13.5ms inference, 2.6ms NMS per image at shape (1, 3, 384, 640)\n",
            "Saved 1 image to 'runs/detect/exp19'\n"
          ],
          "name": "stderr"
        }
      ]
    },
    {
      "cell_type": "code",
      "metadata": {
        "colab": {
          "base_uri": "https://localhost:8080/"
        },
        "id": "4dz6c3dh2mXL",
        "outputId": "e8e2895d-1804-4f50-e493-84349054662a"
      },
      "source": [
        "!python detect.py --weights yolov5x.pt --classes 0"
      ],
      "execution_count": 51,
      "outputs": [
        {
          "output_type": "stream",
          "text": [
            "\u001b[34m\u001b[1mdetect: \u001b[0mweights=['yolov5x.pt'], source=data/images, imgsz=640, conf_thres=0.25, iou_thres=0.45, max_det=1000, device=, view_img=False, save_txt=False, save_conf=False, save_crop=False, nosave=False, classes=[0], agnostic_nms=False, augment=False, visualize=False, update=False, project=runs/detect, name=exp, exist_ok=False, line_thickness=3, hide_labels=False, hide_conf=False, half=False\n",
            "YOLOv5 🚀 v5.0-351-ge96c74b torch 1.9.0+cu102 CUDA:0 (Tesla P100-PCIE-16GB, 16280.875MB)\n",
            "\n",
            "Downloading https://github.com/ultralytics/yolov5/releases/download/v5.0/yolov5x.pt to yolov5x.pt...\n",
            "100% 168M/168M [00:02<00:00, 86.6MB/s]\n",
            "\n",
            "Fusing layers... \n",
            "Model Summary: 476 layers, 87730285 parameters, 0 gradients\n",
            "image 1/2 /content/yolov5/data/images/bus.jpg: 640x480 4 persons, Done. (0.037s)\n",
            "image 2/2 /content/yolov5/data/images/zidane.jpg: 384x640 2 persons, Done. (0.031s)\n",
            "Results saved to \u001b[1mruns/detect/exp20\u001b[0m\n",
            "Done. (0.194s)\n"
          ],
          "name": "stdout"
        }
      ]
    },
    {
      "cell_type": "code",
      "metadata": {
        "colab": {
          "base_uri": "https://localhost:8080/"
        },
        "id": "83T4ZUp0spIr",
        "outputId": "a61f50e9-e945-444d-db83-6c0d52115ae9"
      },
      "source": [
        "!python detect.py --weights yolov5s.pt --classes 0"
      ],
      "execution_count": 52,
      "outputs": [
        {
          "output_type": "stream",
          "text": [
            "\u001b[34m\u001b[1mdetect: \u001b[0mweights=['yolov5s.pt'], source=data/images, imgsz=640, conf_thres=0.25, iou_thres=0.45, max_det=1000, device=, view_img=False, save_txt=False, save_conf=False, save_crop=False, nosave=False, classes=[0], agnostic_nms=False, augment=False, visualize=False, update=False, project=runs/detect, name=exp, exist_ok=False, line_thickness=3, hide_labels=False, hide_conf=False, half=False\n",
            "YOLOv5 🚀 v5.0-351-ge96c74b torch 1.9.0+cu102 CUDA:0 (Tesla P100-PCIE-16GB, 16280.875MB)\n",
            "\n",
            "Downloading https://github.com/ultralytics/yolov5/releases/download/v5.0/yolov5s.pt to yolov5s.pt...\n",
            "100% 14.1M/14.1M [00:00<00:00, 41.7MB/s]\n",
            "\n",
            "Fusing layers... \n",
            "Model Summary: 224 layers, 7266973 parameters, 0 gradients\n",
            "image 1/2 /content/yolov5/data/images/bus.jpg: 640x480 4 persons, Done. (0.015s)\n",
            "image 2/2 /content/yolov5/data/images/zidane.jpg: 384x640 2 persons, Done. (0.011s)\n",
            "Results saved to \u001b[1mruns/detect/exp21\u001b[0m\n",
            "Done. (0.115s)\n"
          ],
          "name": "stdout"
        }
      ]
    },
    {
      "cell_type": "markdown",
      "metadata": {
        "id": "xxd4-4AXvRTO"
      },
      "source": [
        "Validate yolov5x"
      ]
    },
    {
      "cell_type": "code",
      "metadata": {
        "colab": {
          "base_uri": "https://localhost:8080/"
        },
        "id": "Cgc40TYThmlA",
        "outputId": "339dac4f-6607-4ca2-e503-f910c31cd1c7"
      },
      "source": [
        "!python val.py --weights yolov5x.pt --data coco.yaml --img 640 --half"
      ],
      "execution_count": 53,
      "outputs": [
        {
          "output_type": "stream",
          "text": [
            "\u001b[34m\u001b[1mval: \u001b[0mdata=./data/coco.yaml, weights=['yolov5x.pt'], batch_size=32, imgsz=640, conf_thres=0.001, iou_thres=0.6, task=val, device=, single_cls=False, augment=False, verbose=False, save_txt=False, save_hybrid=False, save_conf=False, save_json=True, project=runs/val, name=exp, exist_ok=False, half=True\n",
            "YOLOv5 🚀 v5.0-351-ge96c74b torch 1.9.0+cu102 CUDA:0 (Tesla P100-PCIE-16GB, 16280.875MB)\n",
            "\n",
            "Fusing layers... \n",
            "Model Summary: 476 layers, 87730285 parameters, 0 gradients\n",
            "\u001b[34m\u001b[1mval: \u001b[0mScanning '../datasets/coco/val2017.cache' images and labels... 4952 found, 48 missing, 0 empty, 0 corrupted: 100% 5000/5000 [00:00<00:00, 26783550.45it/s]\n",
            "               Class     Images     Labels          P          R     mAP@.5 mAP@.5:.95: 100% 157/157 [02:36<00:00,  1.01it/s]\n",
            "                 all       5000      36335       0.75      0.626      0.682      0.491\n",
            "Speed: 0.1ms pre-process, 22.5ms inference, 1.9ms NMS per image at shape (32, 3, 640, 640)\n",
            "\n",
            "Evaluating pycocotools mAP... saving runs/val/exp4/yolov5x_predictions.json...\n",
            "loading annotations into memory...\n",
            "Done (t=1.13s)\n",
            "creating index...\n",
            "index created!\n",
            "Loading and preparing results...\n",
            "DONE (t=5.72s)\n",
            "creating index...\n",
            "index created!\n",
            "Running per image evaluation...\n",
            "Evaluate annotation type *bbox*\n",
            "DONE (t=102.75s).\n",
            "Accumulating evaluation results...\n",
            "DONE (t=15.20s).\n",
            " Average Precision  (AP) @[ IoU=0.50:0.95 | area=   all | maxDets=100 ] = 0.502\n",
            " Average Precision  (AP) @[ IoU=0.50      | area=   all | maxDets=100 ] = 0.689\n",
            " Average Precision  (AP) @[ IoU=0.75      | area=   all | maxDets=100 ] = 0.541\n",
            " Average Precision  (AP) @[ IoU=0.50:0.95 | area= small | maxDets=100 ] = 0.351\n",
            " Average Precision  (AP) @[ IoU=0.50:0.95 | area=medium | maxDets=100 ] = 0.550\n",
            " Average Precision  (AP) @[ IoU=0.50:0.95 | area= large | maxDets=100 ] = 0.643\n",
            " Average Recall     (AR) @[ IoU=0.50:0.95 | area=   all | maxDets=  1 ] = 0.382\n",
            " Average Recall     (AR) @[ IoU=0.50:0.95 | area=   all | maxDets= 10 ] = 0.625\n",
            " Average Recall     (AR) @[ IoU=0.50:0.95 | area=   all | maxDets=100 ] = 0.674\n",
            " Average Recall     (AR) @[ IoU=0.50:0.95 | area= small | maxDets=100 ] = 0.518\n",
            " Average Recall     (AR) @[ IoU=0.50:0.95 | area=medium | maxDets=100 ] = 0.725\n",
            " Average Recall     (AR) @[ IoU=0.50:0.95 | area= large | maxDets=100 ] = 0.817\n",
            "Results saved to \u001b[1mruns/val/exp4\u001b[0m\n"
          ],
          "name": "stdout"
        }
      ]
    },
    {
      "cell_type": "markdown",
      "metadata": {
        "id": "V-ww4WKfvb1d"
      },
      "source": [
        "Validate yolov5s"
      ]
    },
    {
      "cell_type": "code",
      "metadata": {
        "colab": {
          "base_uri": "https://localhost:8080/"
        },
        "id": "kt-yOBl3mCt0",
        "outputId": "0286e83e-c77a-43d1-8816-18aff0636a0f"
      },
      "source": [
        "!python val.py --weights yolov5s.pt --data coco.yaml --img 640 --half"
      ],
      "execution_count": 54,
      "outputs": [
        {
          "output_type": "stream",
          "text": [
            "\u001b[34m\u001b[1mval: \u001b[0mdata=./data/coco.yaml, weights=['yolov5s.pt'], batch_size=32, imgsz=640, conf_thres=0.001, iou_thres=0.6, task=val, device=, single_cls=False, augment=False, verbose=False, save_txt=False, save_hybrid=False, save_conf=False, save_json=True, project=runs/val, name=exp, exist_ok=False, half=True\n",
            "YOLOv5 🚀 v5.0-351-ge96c74b torch 1.9.0+cu102 CUDA:0 (Tesla P100-PCIE-16GB, 16280.875MB)\n",
            "\n",
            "Fusing layers... \n",
            "Model Summary: 224 layers, 7266973 parameters, 0 gradients\n",
            "\u001b[34m\u001b[1mval: \u001b[0mScanning '../datasets/coco/val2017.cache' images and labels... 4952 found, 48 missing, 0 empty, 0 corrupted: 100% 5000/5000 [00:00<00:00, 43509377.59it/s]\n",
            "               Class     Images     Labels          P          R     mAP@.5 mAP@.5:.95: 100% 157/157 [01:08<00:00,  2.28it/s]\n",
            "                 all       5000      36335      0.651      0.507      0.549      0.353\n",
            "Speed: 0.1ms pre-process, 3.6ms inference, 2.2ms NMS per image at shape (32, 3, 640, 640)\n",
            "\n",
            "Evaluating pycocotools mAP... saving runs/val/exp5/yolov5s_predictions.json...\n",
            "loading annotations into memory...\n",
            "Done (t=0.50s)\n",
            "creating index...\n",
            "index created!\n",
            "Loading and preparing results...\n",
            "DONE (t=7.43s)\n",
            "creating index...\n",
            "index created!\n",
            "Running per image evaluation...\n",
            "Evaluate annotation type *bbox*\n",
            "DONE (t=123.29s).\n",
            "Accumulating evaluation results...\n",
            "DONE (t=20.62s).\n",
            " Average Precision  (AP) @[ IoU=0.50:0.95 | area=   all | maxDets=100 ] = 0.366\n",
            " Average Precision  (AP) @[ IoU=0.50      | area=   all | maxDets=100 ] = 0.558\n",
            " Average Precision  (AP) @[ IoU=0.75      | area=   all | maxDets=100 ] = 0.394\n",
            " Average Precision  (AP) @[ IoU=0.50:0.95 | area= small | maxDets=100 ] = 0.222\n",
            " Average Precision  (AP) @[ IoU=0.50:0.95 | area=medium | maxDets=100 ] = 0.419\n",
            " Average Precision  (AP) @[ IoU=0.50:0.95 | area= large | maxDets=100 ] = 0.461\n",
            " Average Recall     (AR) @[ IoU=0.50:0.95 | area=   all | maxDets=  1 ] = 0.306\n",
            " Average Recall     (AR) @[ IoU=0.50:0.95 | area=   all | maxDets= 10 ] = 0.516\n",
            " Average Recall     (AR) @[ IoU=0.50:0.95 | area=   all | maxDets=100 ] = 0.568\n",
            " Average Recall     (AR) @[ IoU=0.50:0.95 | area= small | maxDets=100 ] = 0.394\n",
            " Average Recall     (AR) @[ IoU=0.50:0.95 | area=medium | maxDets=100 ] = 0.635\n",
            " Average Recall     (AR) @[ IoU=0.50:0.95 | area= large | maxDets=100 ] = 0.707\n",
            "Results saved to \u001b[1mruns/val/exp5\u001b[0m\n"
          ],
          "name": "stdout"
        }
      ]
    },
    {
      "cell_type": "markdown",
      "metadata": {
        "id": "rgA6mUgdvmON"
      },
      "source": [
        "Mount drive"
      ]
    },
    {
      "cell_type": "code",
      "metadata": {
        "colab": {
          "base_uri": "https://localhost:8080/"
        },
        "id": "Dm_o--EenNzT",
        "outputId": "2d15fd5d-96fa-4b7c-e0e9-26a7467ad4d6"
      },
      "source": [
        "from google.colab import drive\n",
        "drive.mount('/content/drive')"
      ],
      "execution_count": 8,
      "outputs": [
        {
          "output_type": "stream",
          "text": [
            "Mounted at /content/drive\n"
          ],
          "name": "stdout"
        }
      ]
    },
    {
      "cell_type": "markdown",
      "metadata": {
        "id": "TTO6jIYQvpJ4"
      },
      "source": [
        "Test model pruning"
      ]
    },
    {
      "cell_type": "code",
      "metadata": {
        "id": "u2yDgkjIniPu"
      },
      "source": [
        "!cp -R ./runs/* /content/drive/MyDrive/results_yolov5_pruning_nonpruning"
      ],
      "execution_count": 55,
      "outputs": []
    },
    {
      "cell_type": "code",
      "metadata": {
        "colab": {
          "base_uri": "https://localhost:8080/"
        },
        "id": "p01v7LLToXCg",
        "outputId": "cc935b73-80c3-49fe-ca3e-d5a9cdf1d6cb"
      },
      "source": [
        "%cd /content/yolov5/"
      ],
      "execution_count": 11,
      "outputs": [
        {
          "output_type": "stream",
          "text": [
            "/content/yolov5\n"
          ],
          "name": "stdout"
        }
      ]
    },
    {
      "cell_type": "markdown",
      "metadata": {
        "id": "JfakCmF3vzLo"
      },
      "source": [
        "Prune and validate yolov5s"
      ]
    },
    {
      "cell_type": "code",
      "metadata": {
        "colab": {
          "base_uri": "https://localhost:8080/"
        },
        "id": "wjD5X3ILozKG",
        "outputId": "360c127e-ebdd-4785-cc6e-ac6615fe46f9"
      },
      "source": [
        "!python val_prune.py --weights yolov5s.pt --data coco.yaml --img 640 --half"
      ],
      "execution_count": 56,
      "outputs": [
        {
          "output_type": "stream",
          "text": [
            "\u001b[34m\u001b[1mval: \u001b[0mdata=./data/coco.yaml, weights=['yolov5s.pt'], batch_size=32, imgsz=640, conf_thres=0.001, iou_thres=0.6, task=val, device=, single_cls=False, augment=False, verbose=False, save_txt=False, save_hybrid=False, save_conf=False, save_json=True, project=runs/val, name=exp, exist_ok=False, half=True\n",
            "YOLOv5 🚀 v5.0-351-ge96c74b torch 1.9.0+cu102 CUDA:0 (Tesla P100-PCIE-16GB, 16280.875MB)\n",
            "\n",
            "Fusing layers... \n",
            "Model Summary: 224 layers, 7266973 parameters, 0 gradients\n",
            "Pruning model...  0.3 global sparsity\n",
            "\u001b[34m\u001b[1mval: \u001b[0mScanning '../datasets/coco/val2017.cache' images and labels... 4952 found, 48 missing, 0 empty, 0 corrupted: 100% 5000/5000 [00:00<00:00, 37923182.64it/s]\n",
            "               Class     Images     Labels          P          R     mAP@.5 mAP@.5:.95: 100% 157/157 [01:04<00:00,  2.42it/s]\n",
            "                 all       5000      36335      0.599      0.449      0.477      0.291\n",
            "Speed: 0.1ms pre-process, 3.6ms inference, 2.0ms NMS per image at shape (32, 3, 640, 640)\n",
            "\n",
            "Evaluating pycocotools mAP... saving runs/val/exp6/yolov5s_predictions.json...\n",
            "loading annotations into memory...\n",
            "Done (t=0.51s)\n",
            "creating index...\n",
            "index created!\n",
            "Loading and preparing results...\n",
            "DONE (t=7.43s)\n",
            "creating index...\n",
            "index created!\n",
            "Running per image evaluation...\n",
            "Evaluate annotation type *bbox*\n",
            "DONE (t=118.99s).\n",
            "Accumulating evaluation results...\n",
            "DONE (t=19.61s).\n",
            " Average Precision  (AP) @[ IoU=0.50:0.95 | area=   all | maxDets=100 ] = 0.305\n",
            " Average Precision  (AP) @[ IoU=0.50      | area=   all | maxDets=100 ] = 0.486\n",
            " Average Precision  (AP) @[ IoU=0.75      | area=   all | maxDets=100 ] = 0.322\n",
            " Average Precision  (AP) @[ IoU=0.50:0.95 | area= small | maxDets=100 ] = 0.171\n",
            " Average Precision  (AP) @[ IoU=0.50:0.95 | area=medium | maxDets=100 ] = 0.358\n",
            " Average Precision  (AP) @[ IoU=0.50:0.95 | area= large | maxDets=100 ] = 0.382\n",
            " Average Recall     (AR) @[ IoU=0.50:0.95 | area=   all | maxDets=  1 ] = 0.273\n",
            " Average Recall     (AR) @[ IoU=0.50:0.95 | area=   all | maxDets= 10 ] = 0.465\n",
            " Average Recall     (AR) @[ IoU=0.50:0.95 | area=   all | maxDets=100 ] = 0.518\n",
            " Average Recall     (AR) @[ IoU=0.50:0.95 | area= small | maxDets=100 ] = 0.328\n",
            " Average Recall     (AR) @[ IoU=0.50:0.95 | area=medium | maxDets=100 ] = 0.583\n",
            " Average Recall     (AR) @[ IoU=0.50:0.95 | area= large | maxDets=100 ] = 0.648\n",
            "Results saved to \u001b[1mruns/val/exp6\u001b[0m\n"
          ],
          "name": "stdout"
        }
      ]
    },
    {
      "cell_type": "code",
      "metadata": {
        "colab": {
          "base_uri": "https://localhost:8080/"
        },
        "id": "p3VFQL8GEd09",
        "outputId": "9c85f73e-9d4b-493b-ba9d-7096d6f56521"
      },
      "source": [
        "!python detect.py --weights yolov5s.pt --classes 0"
      ],
      "execution_count": 58,
      "outputs": [
        {
          "output_type": "stream",
          "text": [
            "\u001b[34m\u001b[1mdetect: \u001b[0mweights=['yolov5s.pt'], source=data/images, imgsz=640, conf_thres=0.25, iou_thres=0.45, max_det=1000, device=, view_img=False, save_txt=False, save_conf=False, save_crop=False, nosave=False, classes=[0], agnostic_nms=False, augment=False, visualize=False, update=False, project=runs/detect, name=exp, exist_ok=False, line_thickness=3, hide_labels=False, hide_conf=False, half=False\n",
            "YOLOv5 🚀 v5.0-351-ge96c74b torch 1.9.0+cu102 CUDA:0 (Tesla P100-PCIE-16GB, 16280.875MB)\n",
            "\n",
            "Fusing layers... \n",
            "Model Summary: 224 layers, 7266973 parameters, 0 gradients\n",
            "image 1/2 /content/yolov5/data/images/bus.jpg: 640x480 4 persons, Done. (0.013s)\n",
            "image 2/2 /content/yolov5/data/images/zidane.jpg: 384x640 2 persons, Done. (0.012s)\n",
            "Results saved to \u001b[1mruns/detect/exp22\u001b[0m\n",
            "Done. (0.110s)\n"
          ],
          "name": "stdout"
        }
      ]
    },
    {
      "cell_type": "markdown",
      "metadata": {
        "id": "JumReFVbD6T-"
      },
      "source": [
        "prune yolov5x"
      ]
    },
    {
      "cell_type": "code",
      "metadata": {
        "colab": {
          "base_uri": "https://localhost:8080/"
        },
        "id": "oX_iPHXuD9aK",
        "outputId": "fff14829-4c58-4ddc-e0c5-4ad7438805b0"
      },
      "source": [
        "!python val_prune.py --weights yolov5x.pt --data coco.yaml --img 640 --half"
      ],
      "execution_count": 59,
      "outputs": [
        {
          "output_type": "stream",
          "text": [
            "\u001b[34m\u001b[1mval: \u001b[0mdata=./data/coco.yaml, weights=['yolov5x.pt'], batch_size=32, imgsz=640, conf_thres=0.001, iou_thres=0.6, task=val, device=, single_cls=False, augment=False, verbose=False, save_txt=False, save_hybrid=False, save_conf=False, save_json=True, project=runs/val, name=exp, exist_ok=False, half=True\n",
            "YOLOv5 🚀 v5.0-351-ge96c74b torch 1.9.0+cu102 CUDA:0 (Tesla P100-PCIE-16GB, 16280.875MB)\n",
            "\n",
            "Fusing layers... \n",
            "Model Summary: 476 layers, 87730285 parameters, 0 gradients\n",
            "Pruning model...  0.3 global sparsity\n",
            "\u001b[34m\u001b[1mval: \u001b[0mScanning '../datasets/coco/val2017.cache' images and labels... 4952 found, 48 missing, 0 empty, 0 corrupted: 100% 5000/5000 [00:00<00:00, 55627374.01it/s]\n",
            "               Class     Images     Labels          P          R     mAP@.5 mAP@.5:.95: 100% 157/157 [02:32<00:00,  1.03it/s]\n",
            "                 all       5000      36335      0.723      0.614      0.666      0.467\n",
            "Speed: 0.1ms pre-process, 22.5ms inference, 1.7ms NMS per image at shape (32, 3, 640, 640)\n",
            "\n",
            "Evaluating pycocotools mAP... saving runs/val/exp7/yolov5x_predictions.json...\n",
            "loading annotations into memory...\n",
            "Done (t=0.49s)\n",
            "creating index...\n",
            "index created!\n",
            "Loading and preparing results...\n",
            "DONE (t=4.83s)\n",
            "creating index...\n",
            "index created!\n",
            "Running per image evaluation...\n",
            "Evaluate annotation type *bbox*\n",
            "DONE (t=99.94s).\n",
            "Accumulating evaluation results...\n",
            "DONE (t=13.59s).\n",
            " Average Precision  (AP) @[ IoU=0.50:0.95 | area=   all | maxDets=100 ] = 0.479\n",
            " Average Precision  (AP) @[ IoU=0.50      | area=   all | maxDets=100 ] = 0.673\n",
            " Average Precision  (AP) @[ IoU=0.75      | area=   all | maxDets=100 ] = 0.524\n",
            " Average Precision  (AP) @[ IoU=0.50:0.95 | area= small | maxDets=100 ] = 0.327\n",
            " Average Precision  (AP) @[ IoU=0.50:0.95 | area=medium | maxDets=100 ] = 0.531\n",
            " Average Precision  (AP) @[ IoU=0.50:0.95 | area= large | maxDets=100 ] = 0.623\n",
            " Average Recall     (AR) @[ IoU=0.50:0.95 | area=   all | maxDets=  1 ] = 0.368\n",
            " Average Recall     (AR) @[ IoU=0.50:0.95 | area=   all | maxDets= 10 ] = 0.603\n",
            " Average Recall     (AR) @[ IoU=0.50:0.95 | area=   all | maxDets=100 ] = 0.652\n",
            " Average Recall     (AR) @[ IoU=0.50:0.95 | area= small | maxDets=100 ] = 0.490\n",
            " Average Recall     (AR) @[ IoU=0.50:0.95 | area=medium | maxDets=100 ] = 0.705\n",
            " Average Recall     (AR) @[ IoU=0.50:0.95 | area= large | maxDets=100 ] = 0.793\n",
            "Results saved to \u001b[1mruns/val/exp7\u001b[0m\n"
          ],
          "name": "stdout"
        }
      ]
    },
    {
      "cell_type": "code",
      "metadata": {
        "colab": {
          "base_uri": "https://localhost:8080/"
        },
        "id": "asbb3nMqHiw1",
        "outputId": "e1ed308a-f286-4438-afc3-64de6d1e1ba2"
      },
      "source": [
        "!python detect.py --weights yolov5x.pt --classes 0"
      ],
      "execution_count": 60,
      "outputs": [
        {
          "output_type": "stream",
          "text": [
            "\u001b[34m\u001b[1mdetect: \u001b[0mweights=['yolov5x.pt'], source=data/images, imgsz=640, conf_thres=0.25, iou_thres=0.45, max_det=1000, device=, view_img=False, save_txt=False, save_conf=False, save_crop=False, nosave=False, classes=[0], agnostic_nms=False, augment=False, visualize=False, update=False, project=runs/detect, name=exp, exist_ok=False, line_thickness=3, hide_labels=False, hide_conf=False, half=False\n",
            "YOLOv5 🚀 v5.0-351-ge96c74b torch 1.9.0+cu102 CUDA:0 (Tesla P100-PCIE-16GB, 16280.875MB)\n",
            "\n",
            "Fusing layers... \n",
            "Model Summary: 476 layers, 87730285 parameters, 0 gradients\n",
            "image 1/2 /content/yolov5/data/images/bus.jpg: 640x480 4 persons, Done. (0.036s)\n",
            "image 2/2 /content/yolov5/data/images/zidane.jpg: 384x640 2 persons, Done. (0.031s)\n",
            "Results saved to \u001b[1mruns/detect/exp23\u001b[0m\n",
            "Done. (0.149s)\n"
          ],
          "name": "stdout"
        }
      ]
    },
    {
      "cell_type": "markdown",
      "metadata": {
        "id": "b3pqej8Ev9D1"
      },
      "source": [
        "Backup results"
      ]
    },
    {
      "cell_type": "code",
      "metadata": {
        "id": "PI-PoA3asEDQ"
      },
      "source": [
        "!cp -R ./runs/* /content/drive/MyDrive/results_yolov5_pruning_nonpruning"
      ],
      "execution_count": 61,
      "outputs": []
    },
    {
      "cell_type": "markdown",
      "metadata": {
        "id": "yU8_Bo9rwjSo"
      },
      "source": [
        "Detection on video using yolov5x"
      ]
    },
    {
      "cell_type": "code",
      "metadata": {
        "colab": {
          "base_uri": "https://localhost:8080/"
        },
        "id": "Ykc47r4mnwHm",
        "outputId": "fb413973-30c6-4614-c9d8-a67249bc5638"
      },
      "source": [
        "!python detect.py --weights yolov5x.pt --classes 0 --source Pedestrians.MP4"
      ],
      "execution_count": 62,
      "outputs": [
        {
          "output_type": "stream",
          "text": [
            "\u001b[34m\u001b[1mdetect: \u001b[0mweights=['yolov5x.pt'], source=Pedestrians.MP4, imgsz=640, conf_thres=0.25, iou_thres=0.45, max_det=1000, device=, view_img=False, save_txt=False, save_conf=False, save_crop=False, nosave=False, classes=[0], agnostic_nms=False, augment=False, visualize=False, update=False, project=runs/detect, name=exp, exist_ok=False, line_thickness=3, hide_labels=False, hide_conf=False, half=False\n",
            "YOLOv5 🚀 v5.0-351-ge96c74b torch 1.9.0+cu102 CUDA:0 (Tesla P100-PCIE-16GB, 16280.875MB)\n",
            "\n",
            "Fusing layers... \n",
            "Model Summary: 476 layers, 87730285 parameters, 0 gradients\n",
            "video 1/1 (1/180) /content/yolov5/Pedestrians.MP4: 480x640 2 persons, Done. (0.041s)\n",
            "video 1/1 (2/180) /content/yolov5/Pedestrians.MP4: 480x640 2 persons, Done. (0.038s)\n",
            "video 1/1 (3/180) /content/yolov5/Pedestrians.MP4: 480x640 2 persons, Done. (0.038s)\n",
            "video 1/1 (4/180) /content/yolov5/Pedestrians.MP4: 480x640 2 persons, Done. (0.038s)\n",
            "video 1/1 (5/180) /content/yolov5/Pedestrians.MP4: 480x640 3 persons, Done. (0.038s)\n",
            "video 1/1 (6/180) /content/yolov5/Pedestrians.MP4: 480x640 3 persons, Done. (0.037s)\n",
            "video 1/1 (7/180) /content/yolov5/Pedestrians.MP4: 480x640 4 persons, Done. (0.037s)\n",
            "video 1/1 (8/180) /content/yolov5/Pedestrians.MP4: 480x640 2 persons, Done. (0.037s)\n",
            "video 1/1 (9/180) /content/yolov5/Pedestrians.MP4: 480x640 4 persons, Done. (0.036s)\n",
            "video 1/1 (10/180) /content/yolov5/Pedestrians.MP4: 480x640 2 persons, Done. (0.036s)\n",
            "video 1/1 (11/180) /content/yolov5/Pedestrians.MP4: 480x640 4 persons, Done. (0.036s)\n",
            "video 1/1 (12/180) /content/yolov5/Pedestrians.MP4: 480x640 3 persons, Done. (0.036s)\n",
            "video 1/1 (13/180) /content/yolov5/Pedestrians.MP4: 480x640 5 persons, Done. (0.036s)\n",
            "video 1/1 (14/180) /content/yolov5/Pedestrians.MP4: 480x640 4 persons, Done. (0.036s)\n",
            "video 1/1 (15/180) /content/yolov5/Pedestrians.MP4: 480x640 5 persons, Done. (0.035s)\n",
            "video 1/1 (16/180) /content/yolov5/Pedestrians.MP4: 480x640 3 persons, Done. (0.036s)\n",
            "video 1/1 (17/180) /content/yolov5/Pedestrians.MP4: 480x640 4 persons, Done. (0.036s)\n",
            "video 1/1 (18/180) /content/yolov5/Pedestrians.MP4: 480x640 3 persons, Done. (0.036s)\n",
            "video 1/1 (19/180) /content/yolov5/Pedestrians.MP4: 480x640 4 persons, Done. (0.036s)\n",
            "video 1/1 (20/180) /content/yolov5/Pedestrians.MP4: 480x640 3 persons, Done. (0.035s)\n",
            "video 1/1 (21/180) /content/yolov5/Pedestrians.MP4: 480x640 3 persons, Done. (0.035s)\n",
            "video 1/1 (22/180) /content/yolov5/Pedestrians.MP4: 480x640 3 persons, Done. (0.035s)\n",
            "video 1/1 (23/180) /content/yolov5/Pedestrians.MP4: 480x640 4 persons, Done. (0.035s)\n",
            "video 1/1 (24/180) /content/yolov5/Pedestrians.MP4: 480x640 3 persons, Done. (0.036s)\n",
            "video 1/1 (25/180) /content/yolov5/Pedestrians.MP4: 480x640 4 persons, Done. (0.035s)\n",
            "video 1/1 (26/180) /content/yolov5/Pedestrians.MP4: 480x640 4 persons, Done. (0.036s)\n",
            "video 1/1 (27/180) /content/yolov5/Pedestrians.MP4: 480x640 4 persons, Done. (0.035s)\n",
            "video 1/1 (28/180) /content/yolov5/Pedestrians.MP4: 480x640 3 persons, Done. (0.035s)\n",
            "video 1/1 (29/180) /content/yolov5/Pedestrians.MP4: 480x640 5 persons, Done. (0.035s)\n",
            "video 1/1 (30/180) /content/yolov5/Pedestrians.MP4: 480x640 4 persons, Done. (0.035s)\n",
            "video 1/1 (31/180) /content/yolov5/Pedestrians.MP4: 480x640 4 persons, Done. (0.036s)\n",
            "video 1/1 (32/180) /content/yolov5/Pedestrians.MP4: 480x640 5 persons, Done. (0.036s)\n",
            "video 1/1 (33/180) /content/yolov5/Pedestrians.MP4: 480x640 4 persons, Done. (0.036s)\n",
            "video 1/1 (34/180) /content/yolov5/Pedestrians.MP4: 480x640 4 persons, Done. (0.036s)\n",
            "video 1/1 (35/180) /content/yolov5/Pedestrians.MP4: 480x640 3 persons, Done. (0.036s)\n",
            "video 1/1 (36/180) /content/yolov5/Pedestrians.MP4: 480x640 3 persons, Done. (0.036s)\n",
            "video 1/1 (37/180) /content/yolov5/Pedestrians.MP4: 480x640 2 persons, Done. (0.035s)\n",
            "video 1/1 (38/180) /content/yolov5/Pedestrians.MP4: 480x640 4 persons, Done. (0.035s)\n",
            "video 1/1 (39/180) /content/yolov5/Pedestrians.MP4: 480x640 3 persons, Done. (0.035s)\n",
            "video 1/1 (40/180) /content/yolov5/Pedestrians.MP4: 480x640 4 persons, Done. (0.036s)\n",
            "video 1/1 (41/180) /content/yolov5/Pedestrians.MP4: 480x640 4 persons, Done. (0.036s)\n",
            "video 1/1 (42/180) /content/yolov5/Pedestrians.MP4: 480x640 4 persons, Done. (0.035s)\n",
            "video 1/1 (43/180) /content/yolov5/Pedestrians.MP4: 480x640 4 persons, Done. (0.036s)\n",
            "video 1/1 (44/180) /content/yolov5/Pedestrians.MP4: 480x640 4 persons, Done. (0.036s)\n",
            "video 1/1 (45/180) /content/yolov5/Pedestrians.MP4: 480x640 4 persons, Done. (0.036s)\n",
            "video 1/1 (46/180) /content/yolov5/Pedestrians.MP4: 480x640 4 persons, Done. (0.036s)\n",
            "video 1/1 (47/180) /content/yolov5/Pedestrians.MP4: 480x640 4 persons, Done. (0.035s)\n",
            "video 1/1 (48/180) /content/yolov5/Pedestrians.MP4: 480x640 4 persons, Done. (0.036s)\n",
            "video 1/1 (49/180) /content/yolov5/Pedestrians.MP4: 480x640 4 persons, Done. (0.035s)\n",
            "video 1/1 (50/180) /content/yolov5/Pedestrians.MP4: 480x640 4 persons, Done. (0.036s)\n",
            "video 1/1 (51/180) /content/yolov5/Pedestrians.MP4: 480x640 6 persons, Done. (0.036s)\n",
            "video 1/1 (52/180) /content/yolov5/Pedestrians.MP4: 480x640 5 persons, Done. (0.036s)\n",
            "video 1/1 (53/180) /content/yolov5/Pedestrians.MP4: 480x640 4 persons, Done. (0.036s)\n",
            "video 1/1 (54/180) /content/yolov5/Pedestrians.MP4: 480x640 4 persons, Done. (0.036s)\n",
            "video 1/1 (55/180) /content/yolov5/Pedestrians.MP4: 480x640 6 persons, Done. (0.036s)\n",
            "video 1/1 (56/180) /content/yolov5/Pedestrians.MP4: 480x640 6 persons, Done. (0.035s)\n",
            "video 1/1 (57/180) /content/yolov5/Pedestrians.MP4: 480x640 4 persons, Done. (0.036s)\n",
            "video 1/1 (58/180) /content/yolov5/Pedestrians.MP4: 480x640 4 persons, Done. (0.035s)\n",
            "video 1/1 (59/180) /content/yolov5/Pedestrians.MP4: 480x640 5 persons, Done. (0.036s)\n",
            "video 1/1 (60/180) /content/yolov5/Pedestrians.MP4: 480x640 5 persons, Done. (0.036s)\n",
            "video 1/1 (61/180) /content/yolov5/Pedestrians.MP4: 480x640 6 persons, Done. (0.036s)\n",
            "video 1/1 (62/180) /content/yolov5/Pedestrians.MP4: 480x640 4 persons, Done. (0.036s)\n",
            "video 1/1 (63/180) /content/yolov5/Pedestrians.MP4: 480x640 3 persons, Done. (0.036s)\n",
            "video 1/1 (64/180) /content/yolov5/Pedestrians.MP4: 480x640 4 persons, Done. (0.035s)\n",
            "video 1/1 (65/180) /content/yolov5/Pedestrians.MP4: 480x640 5 persons, Done. (0.036s)\n",
            "video 1/1 (66/180) /content/yolov5/Pedestrians.MP4: 480x640 5 persons, Done. (0.035s)\n",
            "video 1/1 (67/180) /content/yolov5/Pedestrians.MP4: 480x640 4 persons, Done. (0.035s)\n",
            "video 1/1 (68/180) /content/yolov5/Pedestrians.MP4: 480x640 4 persons, Done. (0.036s)\n",
            "video 1/1 (69/180) /content/yolov5/Pedestrians.MP4: 480x640 4 persons, Done. (0.036s)\n",
            "video 1/1 (70/180) /content/yolov5/Pedestrians.MP4: 480x640 4 persons, Done. (0.036s)\n",
            "video 1/1 (71/180) /content/yolov5/Pedestrians.MP4: 480x640 5 persons, Done. (0.035s)\n",
            "video 1/1 (72/180) /content/yolov5/Pedestrians.MP4: 480x640 6 persons, Done. (0.036s)\n",
            "video 1/1 (73/180) /content/yolov5/Pedestrians.MP4: 480x640 4 persons, Done. (0.036s)\n",
            "video 1/1 (74/180) /content/yolov5/Pedestrians.MP4: 480x640 4 persons, Done. (0.036s)\n",
            "video 1/1 (75/180) /content/yolov5/Pedestrians.MP4: 480x640 5 persons, Done. (0.035s)\n",
            "video 1/1 (76/180) /content/yolov5/Pedestrians.MP4: 480x640 4 persons, Done. (0.036s)\n",
            "video 1/1 (77/180) /content/yolov5/Pedestrians.MP4: 480x640 4 persons, Done. (0.036s)\n",
            "video 1/1 (78/180) /content/yolov5/Pedestrians.MP4: 480x640 7 persons, Done. (0.035s)\n",
            "video 1/1 (79/180) /content/yolov5/Pedestrians.MP4: 480x640 4 persons, Done. (0.035s)\n",
            "video 1/1 (80/180) /content/yolov5/Pedestrians.MP4: 480x640 4 persons, Done. (0.036s)\n",
            "video 1/1 (81/180) /content/yolov5/Pedestrians.MP4: 480x640 4 persons, Done. (0.036s)\n",
            "video 1/1 (82/180) /content/yolov5/Pedestrians.MP4: 480x640 4 persons, Done. (0.035s)\n",
            "video 1/1 (83/180) /content/yolov5/Pedestrians.MP4: 480x640 4 persons, Done. (0.035s)\n",
            "video 1/1 (84/180) /content/yolov5/Pedestrians.MP4: 480x640 5 persons, Done. (0.036s)\n",
            "video 1/1 (85/180) /content/yolov5/Pedestrians.MP4: 480x640 4 persons, Done. (0.036s)\n",
            "video 1/1 (86/180) /content/yolov5/Pedestrians.MP4: 480x640 4 persons, Done. (0.035s)\n",
            "video 1/1 (87/180) /content/yolov5/Pedestrians.MP4: 480x640 3 persons, Done. (0.035s)\n",
            "video 1/1 (88/180) /content/yolov5/Pedestrians.MP4: 480x640 4 persons, Done. (0.036s)\n",
            "video 1/1 (89/180) /content/yolov5/Pedestrians.MP4: 480x640 4 persons, Done. (0.036s)\n",
            "video 1/1 (90/180) /content/yolov5/Pedestrians.MP4: 480x640 4 persons, Done. (0.036s)\n",
            "video 1/1 (91/180) /content/yolov5/Pedestrians.MP4: 480x640 4 persons, Done. (0.036s)\n",
            "video 1/1 (92/180) /content/yolov5/Pedestrians.MP4: 480x640 4 persons, Done. (0.036s)\n",
            "video 1/1 (93/180) /content/yolov5/Pedestrians.MP4: 480x640 5 persons, Done. (0.036s)\n",
            "video 1/1 (94/180) /content/yolov5/Pedestrians.MP4: 480x640 4 persons, Done. (0.036s)\n",
            "video 1/1 (95/180) /content/yolov5/Pedestrians.MP4: 480x640 3 persons, Done. (0.036s)\n",
            "video 1/1 (96/180) /content/yolov5/Pedestrians.MP4: 480x640 4 persons, Done. (0.035s)\n",
            "video 1/1 (97/180) /content/yolov5/Pedestrians.MP4: 480x640 4 persons, Done. (0.035s)\n",
            "video 1/1 (98/180) /content/yolov5/Pedestrians.MP4: 480x640 3 persons, Done. (0.036s)\n",
            "video 1/1 (99/180) /content/yolov5/Pedestrians.MP4: 480x640 4 persons, Done. (0.036s)\n",
            "video 1/1 (100/180) /content/yolov5/Pedestrians.MP4: 480x640 4 persons, Done. (0.036s)\n",
            "video 1/1 (101/180) /content/yolov5/Pedestrians.MP4: 480x640 4 persons, Done. (0.035s)\n",
            "video 1/1 (102/180) /content/yolov5/Pedestrians.MP4: 480x640 3 persons, Done. (0.035s)\n",
            "video 1/1 (103/180) /content/yolov5/Pedestrians.MP4: 480x640 4 persons, Done. (0.035s)\n",
            "video 1/1 (104/180) /content/yolov5/Pedestrians.MP4: 480x640 5 persons, Done. (0.036s)\n",
            "video 1/1 (105/180) /content/yolov5/Pedestrians.MP4: 480x640 5 persons, Done. (0.035s)\n",
            "video 1/1 (106/180) /content/yolov5/Pedestrians.MP4: 480x640 4 persons, Done. (0.036s)\n",
            "video 1/1 (107/180) /content/yolov5/Pedestrians.MP4: 480x640 3 persons, Done. (0.035s)\n",
            "video 1/1 (108/180) /content/yolov5/Pedestrians.MP4: 480x640 4 persons, Done. (0.035s)\n",
            "video 1/1 (109/180) /content/yolov5/Pedestrians.MP4: 480x640 4 persons, Done. (0.036s)\n",
            "video 1/1 (110/180) /content/yolov5/Pedestrians.MP4: 480x640 4 persons, Done. (0.036s)\n",
            "video 1/1 (111/180) /content/yolov5/Pedestrians.MP4: 480x640 4 persons, Done. (0.036s)\n",
            "video 1/1 (112/180) /content/yolov5/Pedestrians.MP4: 480x640 3 persons, Done. (0.035s)\n",
            "video 1/1 (113/180) /content/yolov5/Pedestrians.MP4: 480x640 3 persons, Done. (0.036s)\n",
            "video 1/1 (114/180) /content/yolov5/Pedestrians.MP4: 480x640 4 persons, Done. (0.035s)\n",
            "video 1/1 (115/180) /content/yolov5/Pedestrians.MP4: 480x640 3 persons, Done. (0.035s)\n",
            "video 1/1 (116/180) /content/yolov5/Pedestrians.MP4: 480x640 3 persons, Done. (0.035s)\n",
            "video 1/1 (117/180) /content/yolov5/Pedestrians.MP4: 480x640 4 persons, Done. (0.036s)\n",
            "video 1/1 (118/180) /content/yolov5/Pedestrians.MP4: 480x640 4 persons, Done. (0.036s)\n",
            "video 1/1 (119/180) /content/yolov5/Pedestrians.MP4: 480x640 2 persons, Done. (0.035s)\n",
            "video 1/1 (120/180) /content/yolov5/Pedestrians.MP4: 480x640 2 persons, Done. (0.035s)\n",
            "video 1/1 (121/180) /content/yolov5/Pedestrians.MP4: 480x640 3 persons, Done. (0.036s)\n",
            "video 1/1 (122/180) /content/yolov5/Pedestrians.MP4: 480x640 3 persons, Done. (0.036s)\n",
            "video 1/1 (123/180) /content/yolov5/Pedestrians.MP4: 480x640 2 persons, Done. (0.036s)\n",
            "video 1/1 (124/180) /content/yolov5/Pedestrians.MP4: 480x640 3 persons, Done. (0.035s)\n",
            "video 1/1 (125/180) /content/yolov5/Pedestrians.MP4: 480x640 3 persons, Done. (0.036s)\n",
            "video 1/1 (126/180) /content/yolov5/Pedestrians.MP4: 480x640 3 persons, Done. (0.036s)\n",
            "video 1/1 (127/180) /content/yolov5/Pedestrians.MP4: 480x640 3 persons, Done. (0.035s)\n",
            "video 1/1 (128/180) /content/yolov5/Pedestrians.MP4: 480x640 3 persons, Done. (0.035s)\n",
            "video 1/1 (129/180) /content/yolov5/Pedestrians.MP4: 480x640 3 persons, Done. (0.036s)\n",
            "video 1/1 (130/180) /content/yolov5/Pedestrians.MP4: 480x640 3 persons, Done. (0.036s)\n",
            "video 1/1 (131/180) /content/yolov5/Pedestrians.MP4: 480x640 3 persons, Done. (0.035s)\n",
            "video 1/1 (132/180) /content/yolov5/Pedestrians.MP4: 480x640 3 persons, Done. (0.036s)\n",
            "video 1/1 (133/180) /content/yolov5/Pedestrians.MP4: 480x640 3 persons, Done. (0.036s)\n",
            "video 1/1 (134/180) /content/yolov5/Pedestrians.MP4: 480x640 3 persons, Done. (0.036s)\n",
            "video 1/1 (135/180) /content/yolov5/Pedestrians.MP4: 480x640 3 persons, Done. (0.035s)\n",
            "video 1/1 (136/180) /content/yolov5/Pedestrians.MP4: 480x640 3 persons, Done. (0.035s)\n",
            "video 1/1 (137/180) /content/yolov5/Pedestrians.MP4: 480x640 3 persons, Done. (0.035s)\n",
            "video 1/1 (138/180) /content/yolov5/Pedestrians.MP4: 480x640 3 persons, Done. (0.035s)\n",
            "video 1/1 (139/180) /content/yolov5/Pedestrians.MP4: 480x640 3 persons, Done. (0.036s)\n",
            "video 1/1 (140/180) /content/yolov5/Pedestrians.MP4: 480x640 3 persons, Done. (0.035s)\n",
            "video 1/1 (141/180) /content/yolov5/Pedestrians.MP4: 480x640 3 persons, Done. (0.036s)\n",
            "video 1/1 (142/180) /content/yolov5/Pedestrians.MP4: 480x640 2 persons, Done. (0.035s)\n",
            "video 1/1 (143/180) /content/yolov5/Pedestrians.MP4: 480x640 2 persons, Done. (0.035s)\n",
            "video 1/1 (144/180) /content/yolov5/Pedestrians.MP4: 480x640 2 persons, Done. (0.036s)\n",
            "video 1/1 (145/180) /content/yolov5/Pedestrians.MP4: 480x640 2 persons, Done. (0.036s)\n",
            "video 1/1 (146/180) /content/yolov5/Pedestrians.MP4: 480x640 2 persons, Done. (0.036s)\n",
            "video 1/1 (147/180) /content/yolov5/Pedestrians.MP4: 480x640 3 persons, Done. (0.036s)\n",
            "video 1/1 (148/180) /content/yolov5/Pedestrians.MP4: 480x640 3 persons, Done. (0.036s)\n",
            "video 1/1 (149/180) /content/yolov5/Pedestrians.MP4: 480x640 3 persons, Done. (0.036s)\n",
            "video 1/1 (150/180) /content/yolov5/Pedestrians.MP4: 480x640 4 persons, Done. (0.035s)\n",
            "video 1/1 (151/180) /content/yolov5/Pedestrians.MP4: 480x640 4 persons, Done. (0.035s)\n",
            "video 1/1 (152/180) /content/yolov5/Pedestrians.MP4: 480x640 5 persons, Done. (0.036s)\n",
            "video 1/1 (153/180) /content/yolov5/Pedestrians.MP4: 480x640 4 persons, Done. (0.036s)\n",
            "video 1/1 (154/180) /content/yolov5/Pedestrians.MP4: 480x640 3 persons, Done. (0.036s)\n",
            "video 1/1 (155/180) /content/yolov5/Pedestrians.MP4: 480x640 4 persons, Done. (0.036s)\n",
            "video 1/1 (156/180) /content/yolov5/Pedestrians.MP4: 480x640 4 persons, Done. (0.036s)\n",
            "video 1/1 (157/180) /content/yolov5/Pedestrians.MP4: 480x640 3 persons, Done. (0.035s)\n",
            "video 1/1 (158/180) /content/yolov5/Pedestrians.MP4: 480x640 3 persons, Done. (0.035s)\n",
            "video 1/1 (159/180) /content/yolov5/Pedestrians.MP4: 480x640 3 persons, Done. (0.036s)\n",
            "video 1/1 (160/180) /content/yolov5/Pedestrians.MP4: 480x640 3 persons, Done. (0.035s)\n",
            "video 1/1 (161/180) /content/yolov5/Pedestrians.MP4: 480x640 3 persons, Done. (0.036s)\n",
            "video 1/1 (162/180) /content/yolov5/Pedestrians.MP4: 480x640 3 persons, Done. (0.036s)\n",
            "video 1/1 (163/180) /content/yolov5/Pedestrians.MP4: 480x640 4 persons, Done. (0.036s)\n",
            "video 1/1 (164/180) /content/yolov5/Pedestrians.MP4: 480x640 3 persons, Done. (0.036s)\n",
            "video 1/1 (165/180) /content/yolov5/Pedestrians.MP4: 480x640 3 persons, Done. (0.036s)\n",
            "video 1/1 (166/180) /content/yolov5/Pedestrians.MP4: 480x640 3 persons, Done. (0.036s)\n",
            "video 1/1 (167/180) /content/yolov5/Pedestrians.MP4: 480x640 3 persons, Done. (0.036s)\n",
            "video 1/1 (168/180) /content/yolov5/Pedestrians.MP4: 480x640 4 persons, Done. (0.035s)\n",
            "video 1/1 (169/180) /content/yolov5/Pedestrians.MP4: 480x640 5 persons, Done. (0.036s)\n",
            "video 1/1 (170/180) /content/yolov5/Pedestrians.MP4: 480x640 4 persons, Done. (0.036s)\n",
            "video 1/1 (171/180) /content/yolov5/Pedestrians.MP4: 480x640 4 persons, Done. (0.036s)\n",
            "video 1/1 (172/180) /content/yolov5/Pedestrians.MP4: 480x640 4 persons, Done. (0.035s)\n",
            "video 1/1 (173/180) /content/yolov5/Pedestrians.MP4: 480x640 4 persons, Done. (0.036s)\n",
            "video 1/1 (174/180) /content/yolov5/Pedestrians.MP4: 480x640 4 persons, Done. (0.036s)\n",
            "video 1/1 (175/180) /content/yolov5/Pedestrians.MP4: 480x640 4 persons, Done. (0.036s)\n",
            "video 1/1 (176/180) /content/yolov5/Pedestrians.MP4: 480x640 4 persons, Done. (0.036s)\n",
            "video 1/1 (177/180) /content/yolov5/Pedestrians.MP4: 480x640 4 persons, Done. (0.036s)\n",
            "video 1/1 (178/180) /content/yolov5/Pedestrians.MP4: 480x640 4 persons, Done. (0.035s)\n",
            "video 1/1 (179/180) /content/yolov5/Pedestrians.MP4: 480x640 4 persons, Done. (0.036s)\n",
            "video 1/1 (180/180) /content/yolov5/Pedestrians.MP4: 480x640 4 persons, Done. (0.035s)\n",
            "Results saved to \u001b[1mruns/detect/exp24\u001b[0m\n",
            "Done. (15.975s)\n"
          ],
          "name": "stdout"
        }
      ]
    },
    {
      "cell_type": "markdown",
      "metadata": {
        "id": "kj0IH2S1wqsE"
      },
      "source": [
        "Detection on video using yolov5s\n"
      ]
    },
    {
      "cell_type": "code",
      "metadata": {
        "colab": {
          "base_uri": "https://localhost:8080/"
        },
        "id": "NL5gEoL_sefw",
        "outputId": "f1697a11-aac0-43e6-dff2-fb781886f0ec"
      },
      "source": [
        "!python detect.py --weights yolov5s.pt --classes 0 --source Pedestrians.MP4"
      ],
      "execution_count": 63,
      "outputs": [
        {
          "output_type": "stream",
          "text": [
            "\u001b[34m\u001b[1mdetect: \u001b[0mweights=['yolov5s.pt'], source=Pedestrians.MP4, imgsz=640, conf_thres=0.25, iou_thres=0.45, max_det=1000, device=, view_img=False, save_txt=False, save_conf=False, save_crop=False, nosave=False, classes=[0], agnostic_nms=False, augment=False, visualize=False, update=False, project=runs/detect, name=exp, exist_ok=False, line_thickness=3, hide_labels=False, hide_conf=False, half=False\n",
            "YOLOv5 🚀 v5.0-351-ge96c74b torch 1.9.0+cu102 CUDA:0 (Tesla P100-PCIE-16GB, 16280.875MB)\n",
            "\n",
            "Fusing layers... \n",
            "Model Summary: 224 layers, 7266973 parameters, 0 gradients\n",
            "video 1/1 (1/180) /content/yolov5/Pedestrians.MP4: 480x640 5 persons, Done. (0.012s)\n",
            "video 1/1 (2/180) /content/yolov5/Pedestrians.MP4: 480x640 3 persons, Done. (0.011s)\n",
            "video 1/1 (3/180) /content/yolov5/Pedestrians.MP4: 480x640 3 persons, Done. (0.013s)\n",
            "video 1/1 (4/180) /content/yolov5/Pedestrians.MP4: 480x640 3 persons, Done. (0.011s)\n",
            "video 1/1 (5/180) /content/yolov5/Pedestrians.MP4: 480x640 4 persons, Done. (0.011s)\n",
            "video 1/1 (6/180) /content/yolov5/Pedestrians.MP4: 480x640 4 persons, Done. (0.011s)\n",
            "video 1/1 (7/180) /content/yolov5/Pedestrians.MP4: 480x640 5 persons, Done. (0.011s)\n",
            "video 1/1 (8/180) /content/yolov5/Pedestrians.MP4: 480x640 4 persons, Done. (0.010s)\n",
            "video 1/1 (9/180) /content/yolov5/Pedestrians.MP4: 480x640 4 persons, Done. (0.011s)\n",
            "video 1/1 (10/180) /content/yolov5/Pedestrians.MP4: 480x640 3 persons, Done. (0.012s)\n",
            "video 1/1 (11/180) /content/yolov5/Pedestrians.MP4: 480x640 2 persons, Done. (0.011s)\n",
            "video 1/1 (12/180) /content/yolov5/Pedestrians.MP4: 480x640 3 persons, Done. (0.012s)\n",
            "video 1/1 (13/180) /content/yolov5/Pedestrians.MP4: 480x640 2 persons, Done. (0.010s)\n",
            "video 1/1 (14/180) /content/yolov5/Pedestrians.MP4: 480x640 3 persons, Done. (0.011s)\n",
            "video 1/1 (15/180) /content/yolov5/Pedestrians.MP4: 480x640 3 persons, Done. (0.010s)\n",
            "video 1/1 (16/180) /content/yolov5/Pedestrians.MP4: 480x640 3 persons, Done. (0.011s)\n",
            "video 1/1 (17/180) /content/yolov5/Pedestrians.MP4: 480x640 4 persons, Done. (0.010s)\n",
            "video 1/1 (18/180) /content/yolov5/Pedestrians.MP4: 480x640 4 persons, Done. (0.012s)\n",
            "video 1/1 (19/180) /content/yolov5/Pedestrians.MP4: 480x640 4 persons, Done. (0.012s)\n",
            "video 1/1 (20/180) /content/yolov5/Pedestrians.MP4: 480x640 4 persons, Done. (0.011s)\n",
            "video 1/1 (21/180) /content/yolov5/Pedestrians.MP4: 480x640 5 persons, Done. (0.011s)\n",
            "video 1/1 (22/180) /content/yolov5/Pedestrians.MP4: 480x640 5 persons, Done. (0.010s)\n",
            "video 1/1 (23/180) /content/yolov5/Pedestrians.MP4: 480x640 5 persons, Done. (0.011s)\n",
            "video 1/1 (24/180) /content/yolov5/Pedestrians.MP4: 480x640 5 persons, Done. (0.017s)\n",
            "video 1/1 (25/180) /content/yolov5/Pedestrians.MP4: 480x640 5 persons, Done. (0.010s)\n",
            "video 1/1 (26/180) /content/yolov5/Pedestrians.MP4: 480x640 5 persons, Done. (0.011s)\n",
            "video 1/1 (27/180) /content/yolov5/Pedestrians.MP4: 480x640 4 persons, Done. (0.010s)\n",
            "video 1/1 (28/180) /content/yolov5/Pedestrians.MP4: 480x640 4 persons, Done. (0.011s)\n",
            "video 1/1 (29/180) /content/yolov5/Pedestrians.MP4: 480x640 4 persons, Done. (0.010s)\n",
            "video 1/1 (30/180) /content/yolov5/Pedestrians.MP4: 480x640 4 persons, Done. (0.011s)\n",
            "video 1/1 (31/180) /content/yolov5/Pedestrians.MP4: 480x640 6 persons, Done. (0.015s)\n",
            "video 1/1 (32/180) /content/yolov5/Pedestrians.MP4: 480x640 4 persons, Done. (0.011s)\n",
            "video 1/1 (33/180) /content/yolov5/Pedestrians.MP4: 480x640 5 persons, Done. (0.011s)\n",
            "video 1/1 (34/180) /content/yolov5/Pedestrians.MP4: 480x640 3 persons, Done. (0.010s)\n",
            "video 1/1 (35/180) /content/yolov5/Pedestrians.MP4: 480x640 3 persons, Done. (0.012s)\n",
            "video 1/1 (36/180) /content/yolov5/Pedestrians.MP4: 480x640 4 persons, Done. (0.013s)\n",
            "video 1/1 (37/180) /content/yolov5/Pedestrians.MP4: 480x640 4 persons, Done. (0.011s)\n",
            "video 1/1 (38/180) /content/yolov5/Pedestrians.MP4: 480x640 5 persons, Done. (0.010s)\n",
            "video 1/1 (39/180) /content/yolov5/Pedestrians.MP4: 480x640 4 persons, Done. (0.011s)\n",
            "video 1/1 (40/180) /content/yolov5/Pedestrians.MP4: 480x640 4 persons, Done. (0.012s)\n",
            "video 1/1 (41/180) /content/yolov5/Pedestrians.MP4: 480x640 3 persons, Done. (0.011s)\n",
            "video 1/1 (42/180) /content/yolov5/Pedestrians.MP4: 480x640 4 persons, Done. (0.011s)\n",
            "video 1/1 (43/180) /content/yolov5/Pedestrians.MP4: 480x640 4 persons, Done. (0.010s)\n",
            "video 1/1 (44/180) /content/yolov5/Pedestrians.MP4: 480x640 4 persons, Done. (0.011s)\n",
            "video 1/1 (45/180) /content/yolov5/Pedestrians.MP4: 480x640 4 persons, Done. (0.011s)\n",
            "video 1/1 (46/180) /content/yolov5/Pedestrians.MP4: 480x640 4 persons, Done. (0.011s)\n",
            "video 1/1 (47/180) /content/yolov5/Pedestrians.MP4: 480x640 5 persons, Done. (0.012s)\n",
            "video 1/1 (48/180) /content/yolov5/Pedestrians.MP4: 480x640 4 persons, Done. (0.011s)\n",
            "video 1/1 (49/180) /content/yolov5/Pedestrians.MP4: 480x640 6 persons, Done. (0.010s)\n",
            "video 1/1 (50/180) /content/yolov5/Pedestrians.MP4: 480x640 6 persons, Done. (0.011s)\n",
            "video 1/1 (51/180) /content/yolov5/Pedestrians.MP4: 480x640 4 persons, Done. (0.012s)\n",
            "video 1/1 (52/180) /content/yolov5/Pedestrians.MP4: 480x640 5 persons, Done. (0.010s)\n",
            "video 1/1 (53/180) /content/yolov5/Pedestrians.MP4: 480x640 4 persons, Done. (0.011s)\n",
            "video 1/1 (54/180) /content/yolov5/Pedestrians.MP4: 480x640 5 persons, Done. (0.011s)\n",
            "video 1/1 (55/180) /content/yolov5/Pedestrians.MP4: 480x640 5 persons, Done. (0.011s)\n",
            "video 1/1 (56/180) /content/yolov5/Pedestrians.MP4: 480x640 5 persons, Done. (0.011s)\n",
            "video 1/1 (57/180) /content/yolov5/Pedestrians.MP4: 480x640 5 persons, Done. (0.010s)\n",
            "video 1/1 (58/180) /content/yolov5/Pedestrians.MP4: 480x640 5 persons, Done. (0.011s)\n",
            "video 1/1 (59/180) /content/yolov5/Pedestrians.MP4: 480x640 4 persons, Done. (0.010s)\n",
            "video 1/1 (60/180) /content/yolov5/Pedestrians.MP4: 480x640 4 persons, Done. (0.015s)\n",
            "video 1/1 (61/180) /content/yolov5/Pedestrians.MP4: 480x640 5 persons, Done. (0.011s)\n",
            "video 1/1 (62/180) /content/yolov5/Pedestrians.MP4: 480x640 5 persons, Done. (0.013s)\n",
            "video 1/1 (63/180) /content/yolov5/Pedestrians.MP4: 480x640 5 persons, Done. (0.013s)\n",
            "video 1/1 (64/180) /content/yolov5/Pedestrians.MP4: 480x640 5 persons, Done. (0.013s)\n",
            "video 1/1 (65/180) /content/yolov5/Pedestrians.MP4: 480x640 5 persons, Done. (0.011s)\n",
            "video 1/1 (66/180) /content/yolov5/Pedestrians.MP4: 480x640 6 persons, Done. (0.011s)\n",
            "video 1/1 (67/180) /content/yolov5/Pedestrians.MP4: 480x640 5 persons, Done. (0.011s)\n",
            "video 1/1 (68/180) /content/yolov5/Pedestrians.MP4: 480x640 5 persons, Done. (0.011s)\n",
            "video 1/1 (69/180) /content/yolov5/Pedestrians.MP4: 480x640 5 persons, Done. (0.011s)\n",
            "video 1/1 (70/180) /content/yolov5/Pedestrians.MP4: 480x640 6 persons, Done. (0.011s)\n",
            "video 1/1 (71/180) /content/yolov5/Pedestrians.MP4: 480x640 7 persons, Done. (0.011s)\n",
            "video 1/1 (72/180) /content/yolov5/Pedestrians.MP4: 480x640 5 persons, Done. (0.011s)\n",
            "video 1/1 (73/180) /content/yolov5/Pedestrians.MP4: 480x640 5 persons, Done. (0.011s)\n",
            "video 1/1 (74/180) /content/yolov5/Pedestrians.MP4: 480x640 5 persons, Done. (0.010s)\n",
            "video 1/1 (75/180) /content/yolov5/Pedestrians.MP4: 480x640 5 persons, Done. (0.013s)\n",
            "video 1/1 (76/180) /content/yolov5/Pedestrians.MP4: 480x640 6 persons, Done. (0.011s)\n",
            "video 1/1 (77/180) /content/yolov5/Pedestrians.MP4: 480x640 5 persons, Done. (0.016s)\n",
            "video 1/1 (78/180) /content/yolov5/Pedestrians.MP4: 480x640 4 persons, Done. (0.012s)\n",
            "video 1/1 (79/180) /content/yolov5/Pedestrians.MP4: 480x640 5 persons, Done. (0.010s)\n",
            "video 1/1 (80/180) /content/yolov5/Pedestrians.MP4: 480x640 4 persons, Done. (0.011s)\n",
            "video 1/1 (81/180) /content/yolov5/Pedestrians.MP4: 480x640 5 persons, Done. (0.012s)\n",
            "video 1/1 (82/180) /content/yolov5/Pedestrians.MP4: 480x640 4 persons, Done. (0.011s)\n",
            "video 1/1 (83/180) /content/yolov5/Pedestrians.MP4: 480x640 5 persons, Done. (0.011s)\n",
            "video 1/1 (84/180) /content/yolov5/Pedestrians.MP4: 480x640 5 persons, Done. (0.011s)\n",
            "video 1/1 (85/180) /content/yolov5/Pedestrians.MP4: 480x640 5 persons, Done. (0.011s)\n",
            "video 1/1 (86/180) /content/yolov5/Pedestrians.MP4: 480x640 4 persons, Done. (0.012s)\n",
            "video 1/1 (87/180) /content/yolov5/Pedestrians.MP4: 480x640 4 persons, Done. (0.014s)\n",
            "video 1/1 (88/180) /content/yolov5/Pedestrians.MP4: 480x640 5 persons, Done. (0.010s)\n",
            "video 1/1 (89/180) /content/yolov5/Pedestrians.MP4: 480x640 6 persons, Done. (0.010s)\n",
            "video 1/1 (90/180) /content/yolov5/Pedestrians.MP4: 480x640 4 persons, Done. (0.020s)\n",
            "video 1/1 (91/180) /content/yolov5/Pedestrians.MP4: 480x640 4 persons, Done. (0.011s)\n",
            "video 1/1 (92/180) /content/yolov5/Pedestrians.MP4: 480x640 4 persons, Done. (0.011s)\n",
            "video 1/1 (93/180) /content/yolov5/Pedestrians.MP4: 480x640 6 persons, Done. (0.012s)\n",
            "video 1/1 (94/180) /content/yolov5/Pedestrians.MP4: 480x640 4 persons, Done. (0.011s)\n",
            "video 1/1 (95/180) /content/yolov5/Pedestrians.MP4: 480x640 5 persons, Done. (0.011s)\n",
            "video 1/1 (96/180) /content/yolov5/Pedestrians.MP4: 480x640 4 persons, Done. (0.011s)\n",
            "video 1/1 (97/180) /content/yolov5/Pedestrians.MP4: 480x640 4 persons, Done. (0.011s)\n",
            "video 1/1 (98/180) /content/yolov5/Pedestrians.MP4: 480x640 4 persons, Done. (0.013s)\n",
            "video 1/1 (99/180) /content/yolov5/Pedestrians.MP4: 480x640 4 persons, Done. (0.010s)\n",
            "video 1/1 (100/180) /content/yolov5/Pedestrians.MP4: 480x640 4 persons, Done. (0.011s)\n",
            "video 1/1 (101/180) /content/yolov5/Pedestrians.MP4: 480x640 4 persons, Done. (0.011s)\n",
            "video 1/1 (102/180) /content/yolov5/Pedestrians.MP4: 480x640 4 persons, Done. (0.011s)\n",
            "video 1/1 (103/180) /content/yolov5/Pedestrians.MP4: 480x640 4 persons, Done. (0.011s)\n",
            "video 1/1 (104/180) /content/yolov5/Pedestrians.MP4: 480x640 4 persons, Done. (0.014s)\n",
            "video 1/1 (105/180) /content/yolov5/Pedestrians.MP4: 480x640 4 persons, Done. (0.010s)\n",
            "video 1/1 (106/180) /content/yolov5/Pedestrians.MP4: 480x640 6 persons, Done. (0.016s)\n",
            "video 1/1 (107/180) /content/yolov5/Pedestrians.MP4: 480x640 4 persons, Done. (0.011s)\n",
            "video 1/1 (108/180) /content/yolov5/Pedestrians.MP4: 480x640 4 persons, Done. (0.012s)\n",
            "video 1/1 (109/180) /content/yolov5/Pedestrians.MP4: 480x640 4 persons, Done. (0.010s)\n",
            "video 1/1 (110/180) /content/yolov5/Pedestrians.MP4: 480x640 5 persons, Done. (0.013s)\n",
            "video 1/1 (111/180) /content/yolov5/Pedestrians.MP4: 480x640 4 persons, Done. (0.013s)\n",
            "video 1/1 (112/180) /content/yolov5/Pedestrians.MP4: 480x640 5 persons, Done. (0.011s)\n",
            "video 1/1 (113/180) /content/yolov5/Pedestrians.MP4: 480x640 4 persons, Done. (0.010s)\n",
            "video 1/1 (114/180) /content/yolov5/Pedestrians.MP4: 480x640 5 persons, Done. (0.011s)\n",
            "video 1/1 (115/180) /content/yolov5/Pedestrians.MP4: 480x640 4 persons, Done. (0.011s)\n",
            "video 1/1 (116/180) /content/yolov5/Pedestrians.MP4: 480x640 3 persons, Done. (0.011s)\n",
            "video 1/1 (117/180) /content/yolov5/Pedestrians.MP4: 480x640 3 persons, Done. (0.011s)\n",
            "video 1/1 (118/180) /content/yolov5/Pedestrians.MP4: 480x640 3 persons, Done. (0.011s)\n",
            "video 1/1 (119/180) /content/yolov5/Pedestrians.MP4: 480x640 2 persons, Done. (0.012s)\n",
            "video 1/1 (120/180) /content/yolov5/Pedestrians.MP4: 480x640 3 persons, Done. (0.011s)\n",
            "video 1/1 (121/180) /content/yolov5/Pedestrians.MP4: 480x640 3 persons, Done. (0.011s)\n",
            "video 1/1 (122/180) /content/yolov5/Pedestrians.MP4: 480x640 3 persons, Done. (0.015s)\n",
            "video 1/1 (123/180) /content/yolov5/Pedestrians.MP4: 480x640 2 persons, Done. (0.011s)\n",
            "video 1/1 (124/180) /content/yolov5/Pedestrians.MP4: 480x640 3 persons, Done. (0.014s)\n",
            "video 1/1 (125/180) /content/yolov5/Pedestrians.MP4: 480x640 2 persons, Done. (0.011s)\n",
            "video 1/1 (126/180) /content/yolov5/Pedestrians.MP4: 480x640 2 persons, Done. (0.011s)\n",
            "video 1/1 (127/180) /content/yolov5/Pedestrians.MP4: 480x640 2 persons, Done. (0.011s)\n",
            "video 1/1 (128/180) /content/yolov5/Pedestrians.MP4: 480x640 2 persons, Done. (0.011s)\n",
            "video 1/1 (129/180) /content/yolov5/Pedestrians.MP4: 480x640 2 persons, Done. (0.011s)\n",
            "video 1/1 (130/180) /content/yolov5/Pedestrians.MP4: 480x640 2 persons, Done. (0.011s)\n",
            "video 1/1 (131/180) /content/yolov5/Pedestrians.MP4: 480x640 2 persons, Done. (0.011s)\n",
            "video 1/1 (132/180) /content/yolov5/Pedestrians.MP4: 480x640 2 persons, Done. (0.011s)\n",
            "video 1/1 (133/180) /content/yolov5/Pedestrians.MP4: 480x640 2 persons, Done. (0.011s)\n",
            "video 1/1 (134/180) /content/yolov5/Pedestrians.MP4: 480x640 3 persons, Done. (0.010s)\n",
            "video 1/1 (135/180) /content/yolov5/Pedestrians.MP4: 480x640 2 persons, Done. (0.011s)\n",
            "video 1/1 (136/180) /content/yolov5/Pedestrians.MP4: 480x640 2 persons, Done. (0.011s)\n",
            "video 1/1 (137/180) /content/yolov5/Pedestrians.MP4: 480x640 2 persons, Done. (0.011s)\n",
            "video 1/1 (138/180) /content/yolov5/Pedestrians.MP4: 480x640 2 persons, Done. (0.011s)\n",
            "video 1/1 (139/180) /content/yolov5/Pedestrians.MP4: 480x640 2 persons, Done. (0.011s)\n",
            "video 1/1 (140/180) /content/yolov5/Pedestrians.MP4: 480x640 2 persons, Done. (0.017s)\n",
            "video 1/1 (141/180) /content/yolov5/Pedestrians.MP4: 480x640 2 persons, Done. (0.011s)\n",
            "video 1/1 (142/180) /content/yolov5/Pedestrians.MP4: 480x640 2 persons, Done. (0.011s)\n",
            "video 1/1 (143/180) /content/yolov5/Pedestrians.MP4: 480x640 2 persons, Done. (0.011s)\n",
            "video 1/1 (144/180) /content/yolov5/Pedestrians.MP4: 480x640 2 persons, Done. (0.011s)\n",
            "video 1/1 (145/180) /content/yolov5/Pedestrians.MP4: 480x640 2 persons, Done. (0.011s)\n",
            "video 1/1 (146/180) /content/yolov5/Pedestrians.MP4: 480x640 2 persons, Done. (0.014s)\n",
            "video 1/1 (147/180) /content/yolov5/Pedestrians.MP4: 480x640 2 persons, Done. (0.011s)\n",
            "video 1/1 (148/180) /content/yolov5/Pedestrians.MP4: 480x640 2 persons, Done. (0.012s)\n",
            "video 1/1 (149/180) /content/yolov5/Pedestrians.MP4: 480x640 2 persons, Done. (0.010s)\n",
            "video 1/1 (150/180) /content/yolov5/Pedestrians.MP4: 480x640 2 persons, Done. (0.011s)\n",
            "video 1/1 (151/180) /content/yolov5/Pedestrians.MP4: 480x640 2 persons, Done. (0.011s)\n",
            "video 1/1 (152/180) /content/yolov5/Pedestrians.MP4: 480x640 2 persons, Done. (0.011s)\n",
            "video 1/1 (153/180) /content/yolov5/Pedestrians.MP4: 480x640 2 persons, Done. (0.012s)\n",
            "video 1/1 (154/180) /content/yolov5/Pedestrians.MP4: 480x640 2 persons, Done. (0.011s)\n",
            "video 1/1 (155/180) /content/yolov5/Pedestrians.MP4: 480x640 2 persons, Done. (0.012s)\n",
            "video 1/1 (156/180) /content/yolov5/Pedestrians.MP4: 480x640 3 persons, Done. (0.013s)\n",
            "video 1/1 (157/180) /content/yolov5/Pedestrians.MP4: 480x640 2 persons, Done. (0.010s)\n",
            "video 1/1 (158/180) /content/yolov5/Pedestrians.MP4: 480x640 2 persons, Done. (0.011s)\n",
            "video 1/1 (159/180) /content/yolov5/Pedestrians.MP4: 480x640 2 persons, Done. (0.011s)\n",
            "video 1/1 (160/180) /content/yolov5/Pedestrians.MP4: 480x640 2 persons, Done. (0.011s)\n",
            "video 1/1 (161/180) /content/yolov5/Pedestrians.MP4: 480x640 5 persons, Done. (0.011s)\n",
            "video 1/1 (162/180) /content/yolov5/Pedestrians.MP4: 480x640 4 persons, Done. (0.012s)\n",
            "video 1/1 (163/180) /content/yolov5/Pedestrians.MP4: 480x640 4 persons, Done. (0.012s)\n",
            "video 1/1 (164/180) /content/yolov5/Pedestrians.MP4: 480x640 6 persons, Done. (0.012s)\n",
            "video 1/1 (165/180) /content/yolov5/Pedestrians.MP4: 480x640 4 persons, Done. (0.010s)\n",
            "video 1/1 (166/180) /content/yolov5/Pedestrians.MP4: 480x640 3 persons, Done. (0.010s)\n",
            "video 1/1 (167/180) /content/yolov5/Pedestrians.MP4: 480x640 3 persons, Done. (0.011s)\n",
            "video 1/1 (168/180) /content/yolov5/Pedestrians.MP4: 480x640 3 persons, Done. (0.011s)\n",
            "video 1/1 (169/180) /content/yolov5/Pedestrians.MP4: 480x640 3 persons, Done. (0.011s)\n",
            "video 1/1 (170/180) /content/yolov5/Pedestrians.MP4: 480x640 3 persons, Done. (0.011s)\n",
            "video 1/1 (171/180) /content/yolov5/Pedestrians.MP4: 480x640 3 persons, Done. (0.011s)\n",
            "video 1/1 (172/180) /content/yolov5/Pedestrians.MP4: 480x640 4 persons, Done. (0.011s)\n",
            "video 1/1 (173/180) /content/yolov5/Pedestrians.MP4: 480x640 4 persons, Done. (0.011s)\n",
            "video 1/1 (174/180) /content/yolov5/Pedestrians.MP4: 480x640 4 persons, Done. (0.011s)\n",
            "video 1/1 (175/180) /content/yolov5/Pedestrians.MP4: 480x640 4 persons, Done. (0.011s)\n",
            "video 1/1 (176/180) /content/yolov5/Pedestrians.MP4: 480x640 4 persons, Done. (0.011s)\n",
            "video 1/1 (177/180) /content/yolov5/Pedestrians.MP4: 480x640 4 persons, Done. (0.010s)\n",
            "video 1/1 (178/180) /content/yolov5/Pedestrians.MP4: 480x640 3 persons, Done. (0.011s)\n",
            "video 1/1 (179/180) /content/yolov5/Pedestrians.MP4: 480x640 3 persons, Done. (0.014s)\n",
            "video 1/1 (180/180) /content/yolov5/Pedestrians.MP4: 480x640 3 persons, Done. (0.011s)\n",
            "Results saved to \u001b[1mruns/detect/exp25\u001b[0m\n",
            "Done. (11.734s)\n"
          ],
          "name": "stdout"
        }
      ]
    },
    {
      "cell_type": "code",
      "metadata": {
        "colab": {
          "base_uri": "https://localhost:8080/"
        },
        "id": "53x1setMo7dx",
        "outputId": "a0caf3e1-41f2-4e46-9166-652c9cde8c62"
      },
      "source": [
        "!ls"
      ],
      "execution_count": 35,
      "outputs": [
        {
          "output_type": "stream",
          "text": [
            "CONTRIBUTING.md  export.py   Pedestrians.MP4   train.py        val.py\n",
            "data\t\t hubconf.py  README.md\t       tutorial.ipynb  yolov5s.pt\n",
            "detect.py\t LICENSE     requirements.txt  utils\t       yolov5x.pt\n",
            "Dockerfile\t models      runs\t       val_prune.py\n"
          ],
          "name": "stdout"
        }
      ]
    },
    {
      "cell_type": "code",
      "metadata": {
        "id": "lKoAlhOIrpvC"
      },
      "source": [
        "!cp -R ./runs/* /content/drive/MyDrive/results_yolov5_pruning_nonpruning/"
      ],
      "execution_count": 38,
      "outputs": []
    },
    {
      "cell_type": "code",
      "metadata": {
        "id": "bOkwArOItsIf"
      },
      "source": [
        ""
      ],
      "execution_count": null,
      "outputs": []
    },
    {
      "cell_type": "markdown",
      "metadata": {
        "id": "gQ_WGxKVw0IB"
      },
      "source": [
        "Using yolov5s another video"
      ]
    },
    {
      "cell_type": "code",
      "metadata": {
        "colab": {
          "base_uri": "https://localhost:8080/"
        },
        "id": "vTvGQXUvs_n8",
        "outputId": "2a0f9243-61d0-4b8e-82f9-2267f3765fd5"
      },
      "source": [
        "!python detect.py --weights yolov5s.pt --classes 0 --source /content/drive/MyDrive/PedestrianVideo/pedestrians.MP4"
      ],
      "execution_count": 39,
      "outputs": [
        {
          "output_type": "stream",
          "text": [
            "\u001b[34m\u001b[1mdetect: \u001b[0mweights=['yolov5s.pt'], source=/content/drive/MyDrive/PedestrianVideo/pedestrians.MP4, imgsz=640, conf_thres=0.25, iou_thres=0.45, max_det=1000, device=, view_img=False, save_txt=False, save_conf=False, save_crop=False, nosave=False, classes=[0], agnostic_nms=False, augment=False, visualize=False, update=False, project=runs/detect, name=exp, exist_ok=False, line_thickness=3, hide_labels=False, hide_conf=False, half=False\n",
            "YOLOv5 🚀 v5.0-351-ge96c74b torch 1.9.0+cu102 CUDA:0 (Tesla P100-PCIE-16GB, 16280.875MB)\n",
            "\n",
            "Fusing layers... \n",
            "Model Summary: 224 layers, 7266973 parameters, 0 gradients\n",
            "video 1/1 (1/9601) /content/drive/MyDrive/PedestrianVideo/pedestrians.MP4: 480x640 Done. (0.017s)\n",
            "video 1/1 (2/9601) /content/drive/MyDrive/PedestrianVideo/pedestrians.MP4: 480x640 Done. (0.016s)\n",
            "video 1/1 (3/9601) /content/drive/MyDrive/PedestrianVideo/pedestrians.MP4: 480x640 Done. (0.011s)\n",
            "video 1/1 (4/9601) /content/drive/MyDrive/PedestrianVideo/pedestrians.MP4: 480x640 Done. (0.010s)\n",
            "video 1/1 (5/9601) /content/drive/MyDrive/PedestrianVideo/pedestrians.MP4: 480x640 Done. (0.010s)\n",
            "video 1/1 (6/9601) /content/drive/MyDrive/PedestrianVideo/pedestrians.MP4: 480x640 Done. (0.014s)\n",
            "video 1/1 (7/9601) /content/drive/MyDrive/PedestrianVideo/pedestrians.MP4: 480x640 1 person, Done. (0.016s)\n",
            "video 1/1 (8/9601) /content/drive/MyDrive/PedestrianVideo/pedestrians.MP4: 480x640 Done. (0.009s)\n",
            "video 1/1 (9/9601) /content/drive/MyDrive/PedestrianVideo/pedestrians.MP4: 480x640 Done. (0.010s)\n",
            "video 1/1 (10/9601) /content/drive/MyDrive/PedestrianVideo/pedestrians.MP4: 480x640 Done. (0.015s)\n",
            "video 1/1 (11/9601) /content/drive/MyDrive/PedestrianVideo/pedestrians.MP4: 480x640 Done. (0.010s)\n",
            "video 1/1 (12/9601) /content/drive/MyDrive/PedestrianVideo/pedestrians.MP4: 480x640 Done. (0.014s)\n",
            "video 1/1 (13/9601) /content/drive/MyDrive/PedestrianVideo/pedestrians.MP4: 480x640 Done. (0.013s)\n",
            "video 1/1 (14/9601) /content/drive/MyDrive/PedestrianVideo/pedestrians.MP4: 480x640 Done. (0.010s)\n",
            "video 1/1 (15/9601) /content/drive/MyDrive/PedestrianVideo/pedestrians.MP4: 480x640 Done. (0.009s)\n",
            "video 1/1 (16/9601) /content/drive/MyDrive/PedestrianVideo/pedestrians.MP4: 480x640 Done. (0.009s)\n",
            "video 1/1 (17/9601) /content/drive/MyDrive/PedestrianVideo/pedestrians.MP4: 480x640 Done. (0.010s)\n",
            "video 1/1 (18/9601) /content/drive/MyDrive/PedestrianVideo/pedestrians.MP4: 480x640 1 person, Done. (0.011s)\n",
            "video 1/1 (19/9601) /content/drive/MyDrive/PedestrianVideo/pedestrians.MP4: 480x640 Done. (0.009s)\n",
            "video 1/1 (20/9601) /content/drive/MyDrive/PedestrianVideo/pedestrians.MP4: 480x640 Done. (0.009s)\n",
            "video 1/1 (21/9601) /content/drive/MyDrive/PedestrianVideo/pedestrians.MP4: 480x640 Done. (0.023s)\n",
            "video 1/1 (22/9601) /content/drive/MyDrive/PedestrianVideo/pedestrians.MP4: 480x640 1 person, Done. (0.012s)\n",
            "video 1/1 (23/9601) /content/drive/MyDrive/PedestrianVideo/pedestrians.MP4: 480x640 Done. (0.017s)\n",
            "video 1/1 (24/9601) /content/drive/MyDrive/PedestrianVideo/pedestrians.MP4: 480x640 Done. (0.017s)\n",
            "video 1/1 (25/9601) /content/drive/MyDrive/PedestrianVideo/pedestrians.MP4: 480x640 Done. (0.013s)\n",
            "video 1/1 (26/9601) /content/drive/MyDrive/PedestrianVideo/pedestrians.MP4: 480x640 Done. (0.016s)\n",
            "video 1/1 (27/9601) /content/drive/MyDrive/PedestrianVideo/pedestrians.MP4: 480x640 Done. (0.017s)\n",
            "video 1/1 (28/9601) /content/drive/MyDrive/PedestrianVideo/pedestrians.MP4: 480x640 Done. (0.016s)\n",
            "Results saved to \u001b[1mruns/detect/exp14\u001b[0m\n",
            "Done. (16.929s)\n"
          ],
          "name": "stdout"
        }
      ]
    },
    {
      "cell_type": "markdown",
      "metadata": {
        "id": "HrmM4aN0w47a"
      },
      "source": [
        "Using yolov5x"
      ]
    },
    {
      "cell_type": "code",
      "metadata": {
        "colab": {
          "base_uri": "https://localhost:8080/"
        },
        "id": "ou4u6El0tZVh",
        "outputId": "f6cbe7b7-db34-4584-d684-c4ff0318d8ac"
      },
      "source": [
        "!python detect.py --weights yolov5x.pt --classes 0 --source /content/drive/MyDrive/PedestrianVideo/pedestrians.MP4"
      ],
      "execution_count": 40,
      "outputs": [
        {
          "output_type": "stream",
          "text": [
            "\u001b[34m\u001b[1mdetect: \u001b[0mweights=['yolov5x.pt'], source=/content/drive/MyDrive/PedestrianVideo/pedestrians.MP4, imgsz=640, conf_thres=0.25, iou_thres=0.45, max_det=1000, device=, view_img=False, save_txt=False, save_conf=False, save_crop=False, nosave=False, classes=[0], agnostic_nms=False, augment=False, visualize=False, update=False, project=runs/detect, name=exp, exist_ok=False, line_thickness=3, hide_labels=False, hide_conf=False, half=False\n",
            "YOLOv5 🚀 v5.0-351-ge96c74b torch 1.9.0+cu102 CUDA:0 (Tesla P100-PCIE-16GB, 16280.875MB)\n",
            "\n",
            "Fusing layers... \n",
            "Model Summary: 476 layers, 87730285 parameters, 0 gradients\n",
            "video 1/1 (1/9601) /content/drive/MyDrive/PedestrianVideo/pedestrians.MP4: 480x640 Done. (0.037s)\n",
            "video 1/1 (2/9601) /content/drive/MyDrive/PedestrianVideo/pedestrians.MP4: 480x640 Done. (0.035s)\n",
            "video 1/1 (3/9601) /content/drive/MyDrive/PedestrianVideo/pedestrians.MP4: 480x640 1 person, Done. (0.036s)\n",
            "video 1/1 (4/9601) /content/drive/MyDrive/PedestrianVideo/pedestrians.MP4: 480x640 Done. (0.036s)\n",
            "video 1/1 (5/9601) /content/drive/MyDrive/PedestrianVideo/pedestrians.MP4: 480x640 Done. (0.035s)\n",
            "video 1/1 (6/9601) /content/drive/MyDrive/PedestrianVideo/pedestrians.MP4: 480x640 Done. (0.034s)\n",
            "video 1/1 (7/9601) /content/drive/MyDrive/PedestrianVideo/pedestrians.MP4: 480x640 1 person, Done. (0.036s)\n",
            "video 1/1 (8/9601) /content/drive/MyDrive/PedestrianVideo/pedestrians.MP4: 480x640 1 person, Done. (0.035s)\n",
            "video 1/1 (9/9601) /content/drive/MyDrive/PedestrianVideo/pedestrians.MP4: 480x640 Done. (0.035s)\n",
            "video 1/1 (10/9601) /content/drive/MyDrive/PedestrianVideo/pedestrians.MP4: 480x640 Done. (0.034s)\n",
            "video 1/1 (11/9601) /content/drive/MyDrive/PedestrianVideo/pedestrians.MP4: 480x640 Done. (0.034s)\n",
            "video 1/1 (12/9601) /content/drive/MyDrive/PedestrianVideo/pedestrians.MP4: 480x640 Done. (0.035s)\n",
            "video 1/1 (13/9601) /content/drive/MyDrive/PedestrianVideo/pedestrians.MP4: 480x640 1 person, Done. (0.036s)\n",
            "video 1/1 (14/9601) /content/drive/MyDrive/PedestrianVideo/pedestrians.MP4: 480x640 1 person, Done. (0.035s)\n",
            "video 1/1 (15/9601) /content/drive/MyDrive/PedestrianVideo/pedestrians.MP4: 480x640 1 person, Done. (0.035s)\n",
            "video 1/1 (16/9601) /content/drive/MyDrive/PedestrianVideo/pedestrians.MP4: 480x640 Done. (0.037s)\n",
            "video 1/1 (17/9601) /content/drive/MyDrive/PedestrianVideo/pedestrians.MP4: 480x640 1 person, Done. (0.036s)\n",
            "video 1/1 (18/9601) /content/drive/MyDrive/PedestrianVideo/pedestrians.MP4: 480x640 1 person, Done. (0.036s)\n",
            "video 1/1 (19/9601) /content/drive/MyDrive/PedestrianVideo/pedestrians.MP4: 480x640 Done. (0.035s)\n",
            "video 1/1 (20/9601) /content/drive/MyDrive/PedestrianVideo/pedestrians.MP4: 480x640 Done. (0.035s)\n",
            "video 1/1 (21/9601) /content/drive/MyDrive/PedestrianVideo/pedestrians.MP4: 480x640 1 person, Done. (0.036s)\n",
            "video 1/1 (22/9601) /content/drive/MyDrive/PedestrianVideo/pedestrians.MP4: 480x640 Done. (0.034s)\n",
            "video 1/1 (23/9601) /content/drive/MyDrive/PedestrianVideo/pedestrians.MP4: 480x640 Done. (0.035s)\n",
            "video 1/1 (24/9601) /content/drive/MyDrive/PedestrianVideo/pedestrians.MP4: 480x640 Done. (0.035s)\n",
            "video 1/1 (25/9601) /content/drive/MyDrive/PedestrianVideo/pedestrians.MP4: 480x640 Done. (0.035s)\n",
            "video 1/1 (26/9601) /content/drive/MyDrive/PedestrianVideo/pedestrians.MP4: 480x640 Done. (0.035s)\n",
            "video 1/1 (27/9601) /content/drive/MyDrive/PedestrianVideo/pedestrians.MP4: 480x640 Done. (0.035s)\n",
            "video 1/1 (28/9601) /content/drive/MyDrive/PedestrianVideo/pedestrians.MP4: 480x640 Done. (0.035s)\n",
            "Results saved to \u001b[1mruns/detect/exp15\u001b[0m\n",
            "Done. (2.469s)\n"
          ],
          "name": "stdout"
        }
      ]
    },
    {
      "cell_type": "code",
      "metadata": {
        "id": "UOVvCI0qtt_g"
      },
      "source": [
        "!cp -R ./runs/* /content/drive/MyDrive/results_yolov5_pruning_nonpruning/"
      ],
      "execution_count": 41,
      "outputs": []
    }
  ]
}