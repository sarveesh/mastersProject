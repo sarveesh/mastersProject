{
  "nbformat": 4,
  "nbformat_minor": 0,
  "metadata": {
    "colab": {
      "name": "darknetAsIs.ipynb",
      "provenance": [],
      "authorship_tag": "ABX9TyOF+EFW38PeBL1R8Ss1NJ8e",
      "include_colab_link": true
    },
    "kernelspec": {
      "name": "python3",
      "display_name": "Python 3"
    },
    "language_info": {
      "name": "python"
    }
  },
  "cells": [
    {
      "cell_type": "markdown",
      "metadata": {
        "id": "view-in-github",
        "colab_type": "text"
      },
      "source": [
        "<a href=\"https://colab.research.google.com/github/sarveesh/mastersProject/blob/main/darknetAsIs.ipynb\" target=\"_parent\"><img src=\"https://colab.research.google.com/assets/colab-badge.svg\" alt=\"Open In Colab\"/></a>"
      ]
    },
    {
      "cell_type": "code",
      "metadata": {
        "id": "wkac_ObwKHf9"
      },
      "source": [
        "git clone https://github.com/pjreddie/darknet.git\n"
      ],
      "execution_count": null,
      "outputs": []
    }
  ]
}